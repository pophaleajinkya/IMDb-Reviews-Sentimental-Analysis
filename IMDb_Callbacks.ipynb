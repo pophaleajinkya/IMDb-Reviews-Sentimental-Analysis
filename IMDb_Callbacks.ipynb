{
  "cells": [
    {
      "cell_type": "markdown",
      "metadata": {
        "id": "L8BWYUlYd1LM"
      },
      "source": [
        "\n",
        "\n",
        "## Callbacks in Keras"
      ]
    },
    {
      "cell_type": "markdown",
      "metadata": {
        "id": "eS0NLrFJJKQj"
      },
      "source": [
        "# IMDb Example\n",
        "\n",
        "Let's apply the EarlyStopping and ModelCheckpoint callbacks to the IMDb example to (1) stop the training process when validation performance is not improving for certain number of training epochs, and (2) automatically save the best model, i.e., the model with the lowest validation loss.\n",
        "This can save us on the time and computational resources needed to train the expensive RNN models.\n"
      ]
    },
    {
      "cell_type": "markdown",
      "metadata": {
        "id": "eoqKwNg3arvE"
      },
      "source": [
        "Let's start by preparing the data. We will restrict the movie reviews to the top 10,000 most common words (like we did the first time we worked with this dataset), and cut the reviews after 100 words, or pad them to length 100, using the `pad_sequences` function below.\n"
      ]
    },
    {
      "cell_type": "code",
      "execution_count": null,
      "metadata": {
        "colab": {
          "base_uri": "https://localhost:8080/"
        },
        "id": "CHIYQpP1KI9o",
        "outputId": "0d471986-6cde-4b60-b037-df79d4d0fbd9"
      },
      "outputs": [
        {
          "name": "stdout",
          "output_type": "stream",
          "text": [
            "Downloading data from https://storage.googleapis.com/tensorflow/tf-keras-datasets/imdb.npz\n",
            "17465344/17464789 [==============================] - 0s 0us/step\n",
            "17473536/17464789 [==============================] - 0s 0us/step\n"
          ]
        }
      ],
      "source": [
        "from tensorflow.keras.datasets import imdb\n",
        "from tensorflow.keras import preprocessing\n",
        "\n",
        "# Load the data as lists of integers\n",
        "# We only keep the top 10,000 most frequently occurring words in the training data\n",
        "# (Rare words will be discarded as before)\n",
        "(x_train, y_train), (x_test, y_test) = imdb.load_data(num_words=10000)\n",
        "\n",
        "# IMPORTANT NOTE: The IMDb data are already tokenized (i.e., each review is\n",
        "# already converted to a list of integers. So, we skip the Tokenization step\n",
        "# and move directly to the padding step below.\n",
        "\n",
        "# Recall that our movie reviews have different lengths.\n",
        "# The following turns our lists of integers into a 2D integer tensor of shape `(samples, maxlen=100)`\n",
        "# In other words, for reviews shorter than 100 words, we add zeros to make the length=100;\n",
        "# for reviews longer than 100 words, we cut them after 100 words. (100 is arbitrary!)\n",
        "x_train = preprocessing.sequence.pad_sequences(x_train, maxlen=100)\n",
        "x_test = preprocessing.sequence.pad_sequences(x_test, maxlen=100)"
      ]
    },
    {
      "cell_type": "code",
      "execution_count": null,
      "metadata": {
        "colab": {
          "base_uri": "https://localhost:8080/"
        },
        "id": "rskLN7S1FDKQ",
        "outputId": "1f25728c-1d8d-432b-e9b1-b34d4f8cff53"
      },
      "outputs": [
        {
          "data": {
            "text/plain": [
              "(25000, 100)"
            ]
          },
          "execution_count": 2,
          "metadata": {},
          "output_type": "execute_result"
        }
      ],
      "source": [
        "x_train.shape"
      ]
    },
    {
      "cell_type": "code",
      "execution_count": null,
      "metadata": {
        "colab": {
          "base_uri": "https://localhost:8080/"
        },
        "id": "SWV89f9pFGqt",
        "outputId": "830e601d-9e63-4e6c-9695-8979d2f8fe43"
      },
      "outputs": [
        {
          "data": {
            "text/plain": [
              "(25000, 100)"
            ]
          },
          "execution_count": 3,
          "metadata": {},
          "output_type": "execute_result"
        }
      ],
      "source": [
        "x_test.shape"
      ]
    },
    {
      "cell_type": "markdown",
      "metadata": {
        "id": "FV1zrXbgw618"
      },
      "source": [
        "In order to monitor during training the accuracy of the model on data that it has never seen before, we will create a \"validation set\" by setting apart 10,000 samples from the original training data:"
      ]
    },
    {
      "cell_type": "code",
      "execution_count": null,
      "metadata": {
        "id": "-gLMkLrzw7W4"
      },
      "outputs": [],
      "source": [
        "from sklearn.utils import shuffle\n",
        "x_train, y_train = shuffle(x_train, y_train)\n",
        "\n",
        "x_val = x_train[:10000]\n",
        "partial_x_train = x_train[10000:]\n",
        "\n",
        "y_val = y_train[:10000]\n",
        "partial_y_train = y_train[10000:]"
      ]
    },
    {
      "cell_type": "markdown",
      "metadata": {
        "id": "BuDY_LIvZDjc"
      },
      "source": [
        "## A SimpleRNN Model\n",
        "\n",
        "We'll first develop a model with a `SimpleRNN` layer with 64 units. We use an `Embedding` layer to obtain word embeddings, then we feed them into our RNN layer.\n",
        "Recall the the size of our vocabulary is 10,000 and the length of each input sample (review) is 100 words. In here, 128 is the dimension for the word embeddings (each word will be converted into a vector with 128 numbers). 128 is a hyperparameter."
      ]
    },
    {
      "cell_type": "code",
      "execution_count": null,
      "metadata": {
        "id": "VwMsWwHcaBNF"
      },
      "outputs": [],
      "source": [
        "from tensorflow.keras import models\n",
        "from tensorflow.keras import layers\n",
        "\n",
        "model1 = models.Sequential()\n",
        "\n",
        "model1.add(layers.Embedding(10000, 128, input_length=100))\n",
        "\n",
        "model1.add(layers.SimpleRNN(64))\n",
        "\n",
        "# The output unit must have 'sigmoid' activation since this is a binary classification\n",
        "model1.add(layers.Dense(1, activation='sigmoid'))"
      ]
    },
    {
      "cell_type": "code",
      "execution_count": null,
      "metadata": {
        "id": "mbO2Eo7xcMKN"
      },
      "outputs": [],
      "source": [
        "model1.compile(loss='binary_crossentropy', optimizer='rmsprop',  metrics=['accuracy'])"
      ]
    },
    {
      "cell_type": "code",
      "execution_count": null,
      "metadata": {
        "colab": {
          "base_uri": "https://localhost:8080/"
        },
        "id": "MvyFKUKBcRWe",
        "outputId": "e3c5364f-8df2-41a3-cfe7-9850c9c3b41c"
      },
      "outputs": [
        {
          "name": "stdout",
          "output_type": "stream",
          "text": [
            "Epoch 1/20\n",
            "30/30 [==============================] - 8s 116ms/step - loss: 0.6807 - accuracy: 0.5622 - val_loss: 0.6580 - val_accuracy: 0.6082\n",
            "Epoch 2/20\n",
            "30/30 [==============================] - 3s 105ms/step - loss: 0.5253 - accuracy: 0.7825 - val_loss: 0.5979 - val_accuracy: 0.6733\n",
            "Epoch 3/20\n",
            "30/30 [==============================] - 3s 111ms/step - loss: 0.2951 - accuracy: 0.9105 - val_loss: 0.5172 - val_accuracy: 0.7704\n",
            "Epoch 4/20\n",
            "30/30 [==============================] - 3s 110ms/step - loss: 0.1515 - accuracy: 0.9635 - val_loss: 0.4707 - val_accuracy: 0.7891\n",
            "Epoch 5/20\n",
            "30/30 [==============================] - 3s 112ms/step - loss: 0.0918 - accuracy: 0.9752 - val_loss: 0.5510 - val_accuracy: 0.7576\n",
            "Epoch 6/20\n",
            "30/30 [==============================] - 3s 109ms/step - loss: 0.0299 - accuracy: 0.9981 - val_loss: 0.5870 - val_accuracy: 0.7757\n",
            "Epoch 7/20\n",
            "30/30 [==============================] - 3s 107ms/step - loss: 0.0152 - accuracy: 0.9987 - val_loss: 0.8491 - val_accuracy: 0.6755\n",
            "Epoch 8/20\n",
            "30/30 [==============================] - 3s 112ms/step - loss: 0.0121 - accuracy: 0.9978 - val_loss: 0.6264 - val_accuracy: 0.7578\n",
            "Epoch 9/20\n",
            "30/30 [==============================] - 3s 109ms/step - loss: 0.0044 - accuracy: 0.9992 - val_loss: 0.8425 - val_accuracy: 0.6862\n",
            "Epoch 10/20\n",
            "30/30 [==============================] - 3s 108ms/step - loss: 0.0907 - accuracy: 0.9633 - val_loss: 0.6445 - val_accuracy: 0.7757\n",
            "Epoch 11/20\n",
            "30/30 [==============================] - 3s 108ms/step - loss: 0.0024 - accuracy: 1.0000 - val_loss: 0.6646 - val_accuracy: 0.7728\n",
            "Epoch 12/20\n",
            "30/30 [==============================] - 3s 104ms/step - loss: 8.9479e-04 - accuracy: 1.0000 - val_loss: 0.7084 - val_accuracy: 0.7711\n",
            "Epoch 13/20\n",
            "30/30 [==============================] - 3s 108ms/step - loss: 0.0217 - accuracy: 0.9916 - val_loss: 1.0618 - val_accuracy: 0.6745\n",
            "Epoch 14/20\n",
            "30/30 [==============================] - 3s 106ms/step - loss: 0.0058 - accuracy: 0.9985 - val_loss: 0.7185 - val_accuracy: 0.7756\n",
            "Epoch 15/20\n",
            "30/30 [==============================] - 3s 106ms/step - loss: 4.4708e-04 - accuracy: 1.0000 - val_loss: 0.7544 - val_accuracy: 0.7665\n",
            "Epoch 16/20\n",
            "30/30 [==============================] - 3s 108ms/step - loss: 1.7881e-04 - accuracy: 1.0000 - val_loss: 0.7740 - val_accuracy: 0.7801\n",
            "Epoch 17/20\n",
            "30/30 [==============================] - 3s 106ms/step - loss: 6.6114e-05 - accuracy: 1.0000 - val_loss: 0.8323 - val_accuracy: 0.7840\n",
            "Epoch 18/20\n",
            "30/30 [==============================] - 3s 109ms/step - loss: 0.0465 - accuracy: 0.9822 - val_loss: 0.9441 - val_accuracy: 0.7691\n",
            "Epoch 19/20\n",
            "30/30 [==============================] - 3s 105ms/step - loss: 0.0023 - accuracy: 0.9993 - val_loss: 1.0578 - val_accuracy: 0.7182\n",
            "Epoch 20/20\n",
            "30/30 [==============================] - 3s 107ms/step - loss: 0.0083 - accuracy: 0.9967 - val_loss: 0.8764 - val_accuracy: 0.7766\n"
          ]
        }
      ],
      "source": [
        "model1_history = model1.fit(partial_x_train,\n",
        "                            partial_y_train,\n",
        "                            epochs=20,\n",
        "                            batch_size=512,\n",
        "                            validation_data=(x_val, y_val))"
      ]
    },
    {
      "cell_type": "code",
      "execution_count": null,
      "metadata": {
        "colab": {
          "base_uri": "https://localhost:8080/",
          "height": 303
        },
        "id": "TL9LwLXgcveA",
        "outputId": "bc1e25f1-aa38-4b36-fc09-efa888bc7fc9"
      },
      "outputs": [
        {
          "data": {
            "text/plain": [
              "<matplotlib.legend.Legend at 0x7fb0ef39c4d0>"
            ]
          },
          "execution_count": 8,
          "metadata": {},
          "output_type": "execute_result"
        },
        {
          "data": {
            "image/png": "[encoded data removed]",
            "text/plain": [
              "<Figure size 432x288 with 1 Axes>"
            ]
          },
          "metadata": {},
          "output_type": "display_data"
        }
      ],
      "source": [
        "import matplotlib.pyplot as plt\n",
        "import seaborn as sns\n",
        "sns.set()\n",
        "\n",
        "train_acc1  = model1_history.history['accuracy']\n",
        "train_loss1 = model1_history.history['loss']\n",
        "val_acc1  = model1_history.history['val_accuracy']\n",
        "val_loss1 = model1_history.history['val_loss']\n",
        "\n",
        "epochs = range(1, len(train_acc1) + 1)\n",
        "\n",
        "plt.plot(epochs, train_loss1, label = 'Training Loss')\n",
        "plt.plot(epochs, val_loss1, label = 'Validation Loss')\n",
        "plt.xlabel('Epochs')\n",
        "plt.ylabel('Loss')\n",
        "plt.legend()"
      ]
    },
    {
      "cell_type": "markdown",
      "metadata": {
        "id": "dl1l3aaxni-B"
      },
      "source": [
        "We can see that the model overfits after 4 epochs. So, ideally, we should stop training early and save the model at the end of epoch 4 as our best performing model. We will do so next using `Callbacks`."
      ]
    },
    {
      "cell_type": "code",
      "execution_count": null,
      "metadata": {
        "colab": {
          "base_uri": "https://localhost:8080/"
        },
        "id": "7-uNEuvmqsv3",
        "outputId": "6d519844-a694-4842-e6c2-3d96bcc9ccc5"
      },
      "outputs": [
        {
          "name": "stdout",
          "output_type": "stream",
          "text": [
            "782/782 [==============================] - 8s 10ms/step - loss: 0.8705 - accuracy: 0.7741\n"
          ]
        },
        {
          "data": {
            "text/plain": [
              "[0.8705066442489624, 0.7741199731826782]"
            ]
          },
          "execution_count": 9,
          "metadata": {},
          "output_type": "execute_result"
        }
      ],
      "source": [
        "# Evaluate the model on the test set\n",
        "model1.evaluate(x_test, y_test)"
      ]
    },
    {
      "cell_type": "markdown",
      "metadata": {
        "id": "ARv1cV2u-ukG"
      },
      "source": [
        "The simple RNN model achieves 77.4% accuracy on the test data."
      ]
    },
    {
      "cell_type": "markdown",
      "metadata": {
        "id": "dHEHPAcKoBmK"
      },
      "source": [
        "## Adding Callbacks to the SimpleRNN Model"
      ]
    },
    {
      "cell_type": "code",
      "execution_count": null,
      "metadata": {
        "id": "ktoykFSXoBxq"
      },
      "outputs": [],
      "source": [
        "model1_cb = models.Sequential()\n",
        "\n",
        "model1_cb.add(layers.Embedding(10000, 128, input_length=100))\n",
        "\n",
        "model1_cb.add(layers.SimpleRNN(64))\n",
        "\n",
        "# The output unit must have 'sigmoid' activation since this is a binary classification\n",
        "model1_cb.add(layers.Dense(1, activation='sigmoid'))"
      ]
    },
    {
      "cell_type": "code",
      "execution_count": null,
      "metadata": {
        "id": "c02PRa30oPUi"
      },
      "outputs": [],
      "source": [
        "model1_cb.compile(loss='binary_crossentropy', optimizer='rmsprop',  metrics=['accuracy'])"
      ]
    },
    {
      "cell_type": "markdown",
      "metadata": {
        "id": "VvajiQGiwHSI"
      },
      "source": [
        "Below, I am creating a callbacks list to stop the training process if the validation accuracy has not improved for 2 epochs. I also save the best model, i.e., the model with the lowest validation loss."
      ]
    },
    {
      "cell_type": "code",
      "execution_count": null,
      "metadata": {
        "id": "cVWab0HJoZ1p"
      },
      "outputs": [],
      "source": [
        "from tensorflow.keras import callbacks\n",
        "\n",
        "callbacks_list = [\n",
        "    callbacks.EarlyStopping(monitor=\"val_accuracy\", patience=3),\n",
        "    callbacks.ModelCheckpoint(filepath=\"checkpoint_model1.keras\",\n",
        "                                    monitor=\"val_loss\", save_best_only=True)\n",
        "    ]"
      ]
    },
    {
      "cell_type": "code",
      "execution_count": null,
      "metadata": {
        "colab": {
          "base_uri": "https://localhost:8080/"
        },
        "id": "k8YgFyf9oPvI",
        "outputId": "0d0a3568-f0ad-4cb0-88f9-bf9b1ad87c32"
      },
      "outputs": [
        {
          "name": "stdout",
          "output_type": "stream",
          "text": [
            "Epoch 1/20\n",
            "30/30 [==============================] - 5s 124ms/step - loss: 0.6887 - accuracy: 0.5631 - val_loss: 0.6635 - val_accuracy: 0.5970\n",
            "Epoch 2/20\n",
            "30/30 [==============================] - 3s 112ms/step - loss: 0.5367 - accuracy: 0.7743 - val_loss: 0.5598 - val_accuracy: 0.7092\n",
            "Epoch 3/20\n",
            "30/30 [==============================] - 3s 113ms/step - loss: 0.3480 - accuracy: 0.8733 - val_loss: 0.5061 - val_accuracy: 0.7534\n",
            "Epoch 4/20\n",
            "30/30 [==============================] - 4s 119ms/step - loss: 0.2136 - accuracy: 0.9355 - val_loss: 0.4400 - val_accuracy: 0.8137\n",
            "Epoch 5/20\n",
            "30/30 [==============================] - 3s 114ms/step - loss: 0.1249 - accuracy: 0.9665 - val_loss: 0.6551 - val_accuracy: 0.6780\n",
            "Epoch 6/20\n",
            "30/30 [==============================] - 3s 111ms/step - loss: 0.0647 - accuracy: 0.9889 - val_loss: 0.6716 - val_accuracy: 0.7328\n",
            "Epoch 7/20\n",
            "30/30 [==============================] - 3s 110ms/step - loss: 0.0428 - accuracy: 0.9915 - val_loss: 0.5665 - val_accuracy: 0.8126\n"
          ]
        }
      ],
      "source": [
        "model1_cb_history = model1_cb.fit(partial_x_train,\n",
        "                                  partial_y_train,\n",
        "                                  epochs=20,\n",
        "                                  batch_size=512,\n",
        "                                  callbacks=callbacks_list,\n",
        "                                  validation_data=(x_val, y_val))"
      ]
    },
    {
      "cell_type": "markdown",
      "metadata": {
        "id": "ukpet8YvrcJu"
      },
      "source": [
        "The training process stoped after 7 epochs because for 3 consecutive epochs (i.e., epochs 5, 6, and 7) the validation loss did not improve."
      ]
    },
    {
      "cell_type": "code",
      "execution_count": null,
      "metadata": {
        "colab": {
          "base_uri": "https://localhost:8080/",
          "height": 303
        },
        "id": "DchfXmJDra21",
        "outputId": "8ff2a3ac-24c8-43ec-fa72-d258ab94dbe2"
      },
      "outputs": [
        {
          "data": {
            "text/plain": [
              "<matplotlib.legend.Legend at 0x7fb0eccdf9d0>"
            ]
          },
          "execution_count": 22,
          "metadata": {},
          "output_type": "execute_result"
        },
        {
          "data": {
            "image/png": "[encoded data removed]",
            "text/plain": [
              "<Figure size 432x288 with 1 Axes>"
            ]
          },
          "metadata": {},
          "output_type": "display_data"
        }
      ],
      "source": [
        "import matplotlib.pyplot as plt\n",
        "import seaborn as sns\n",
        "sns.set()\n",
        "\n",
        "train_acc1_cb  = model1_cb_history.history['accuracy']\n",
        "train_loss1_cb = model1_cb_history.history['loss']\n",
        "val_acc1_cb  = model1_cb_history.history['val_accuracy']\n",
        "val_loss1_cb = model1_cb_history.history['val_loss']\n",
        "\n",
        "epochs = range(1, len(train_acc1_cb) + 1)\n",
        "\n",
        "plt.plot(epochs, train_loss1_cb, label = 'Training Loss_cb')\n",
        "plt.plot(epochs, val_loss1_cb, label = 'Validation Loss_cb')\n",
        "plt.xlabel('Epochs')\n",
        "plt.ylabel('Loss')\n",
        "plt.legend()"
      ]
    },
    {
      "cell_type": "markdown",
      "metadata": {
        "id": "69anyAassOjB"
      },
      "source": [
        "To load the model we’ve saved (i.e., the model at the end of epoch 4), we can use the following code."
      ]
    },
    {
      "cell_type": "code",
      "execution_count": null,
      "metadata": {
        "id": "UtI2HMwWsOqn"
      },
      "outputs": [],
      "source": [
        "model1_cb_best = models.load_model(\"checkpoint_model1.keras\")"
      ]
    },
    {
      "cell_type": "code",
      "execution_count": null,
      "metadata": {
        "colab": {
          "base_uri": "https://localhost:8080/"
        },
        "id": "mpZwCOunsoem",
        "outputId": "2c5f55f5-4b3b-4b70-a5a1-aa763c879d97"
      },
      "outputs": [
        {
          "name": "stdout",
          "output_type": "stream",
          "text": [
            "782/782 [==============================] - 8s 10ms/step - loss: 0.4299 - accuracy: 0.8164\n"
          ]
        },
        {
          "data": {
            "text/plain": [
              "[0.4298762083053589, 0.8163599967956543]"
            ]
          },
          "execution_count": 24,
          "metadata": {},
          "output_type": "execute_result"
        }
      ],
      "source": [
        "# Evaluate the saved model (after 4 epochs) on the test set\n",
        "model1_cb_best.evaluate(x_test, y_test)"
      ]
    },
    {
      "cell_type": "code",
      "execution_count": null,
      "metadata": {
        "colab": {
          "base_uri": "https://localhost:8080/"
        },
        "id": "fOf7RSRVssUW",
        "outputId": "b7a0ff38-f814-4908-c365-4c904a8bc1ad"
      },
      "outputs": [
        {
          "name": "stdout",
          "output_type": "stream",
          "text": [
            "782/782 [==============================] - 8s 10ms/step - loss: 0.5733 - accuracy: 0.8057\n"
          ]
        },
        {
          "data": {
            "text/plain": [
              "[0.573310911655426, 0.8057199716567993]"
            ]
          },
          "execution_count": 25,
          "metadata": {},
          "output_type": "execute_result"
        }
      ],
      "source": [
        "# Evaluate the last model (after 7 epochs) on the test set\n",
        "model1_cb.evaluate(x_test, y_test)"
      ]
    },
    {
      "cell_type": "markdown",
      "metadata": {
        "id": "LSza1DEAtAgH"
      },
      "source": [
        "We can see that the model after 4 training epochs performs better on the test data than the latest model after 7 training epochs."
      ]
    },
    {
      "cell_type": "markdown",
      "metadata": {
        "id": "K_vH7w8Ll_9j"
      },
      "source": [
        "## An LSTM Model with Recurrent Dropout and Callbacks"
      ]
    },
    {
      "cell_type": "code",
      "execution_count": null,
      "metadata": {
        "colab": {
          "base_uri": "https://localhost:8080/"
        },
        "id": "yyBW7utlmAUX",
        "outputId": "396f1de9-7b14-4dff-cfac-759385ef12e2"
      },
      "outputs": [
        {
          "name": "stderr",
          "output_type": "stream",
          "text": [
            "WARNING:tensorflow:Layer lstm_3 will not use cuDNN kernels since it doesn't meet the criteria. It will use a generic GPU kernel as fallback when running on GPU.\n"
          ]
        }
      ],
      "source": [
        "model2 = models.Sequential()\n",
        "\n",
        "model2.add(layers.Embedding(input_dim=10000, output_dim=128, input_length=100))\n",
        "\n",
        "model2.add(layers.LSTM(100, dropout=0.2, recurrent_dropout=0.2))\n",
        "\n",
        "model2.add(layers.Dense(50, activation='relu'))\n",
        "\n",
        "model2.add(layers.Dense(1, activation='sigmoid'))"
      ]
    },
    {
      "cell_type": "code",
      "execution_count": null,
      "metadata": {
        "id": "Y-u5oxqhmwTq"
      },
      "outputs": [],
      "source": [
        "model2.compile(loss='binary_crossentropy', optimizer='rmsprop',  metrics=['accuracy'])"
      ]
    },
    {
      "cell_type": "markdown",
      "metadata": {
        "id": "r0LHTcwBv1Bx"
      },
      "source": [
        "Below, I am creating a callbacks list to stop the training process if the validation loss has not improved for 4 epochs. I also save the best model, i.e., the model with the lowest validation loss."
      ]
    },
    {
      "cell_type": "code",
      "execution_count": null,
      "metadata": {
        "id": "2Psm7XPNvpSy"
      },
      "outputs": [],
      "source": [
        "from tensorflow.keras import callbacks\n",
        "\n",
        "callbacks_list = [\n",
        "    callbacks.EarlyStopping(monitor=\"val_loss\", patience=4),\n",
        "    callbacks.ModelCheckpoint(filepath=\"checkpoint_model2.keras\",\n",
        "                              monitor=\"val_loss\", save_best_only=True)\n",
        "    ]"
      ]
    },
    {
      "cell_type": "code",
      "execution_count": null,
      "metadata": {
        "colab": {
          "base_uri": "https://localhost:8080/"
        },
        "id": "gEyqcKSLm0eh",
        "outputId": "bf7ecef8-52b0-444f-be27-f0eaa56571ad"
      },
      "outputs": [
        {
          "name": "stdout",
          "output_type": "stream",
          "text": [
            "Epoch 1/50\n",
            "30/30 [==============================] - 17s 490ms/step - loss: 0.6941 - accuracy: 0.6623 - val_loss: 0.4871 - val_accuracy: 0.7863\n",
            "Epoch 2/50\n",
            "30/30 [==============================] - 14s 468ms/step - loss: 0.4322 - accuracy: 0.8169 - val_loss: 0.5185 - val_accuracy: 0.7800\n",
            "Epoch 3/50\n",
            "30/30 [==============================] - 14s 471ms/step - loss: 0.3318 - accuracy: 0.8665 - val_loss: 0.4375 - val_accuracy: 0.7915\n",
            "Epoch 4/50\n",
            "30/30 [==============================] - 14s 469ms/step - loss: 0.2801 - accuracy: 0.8869 - val_loss: 0.4438 - val_accuracy: 0.8351\n",
            "Epoch 5/50\n",
            "30/30 [==============================] - 14s 462ms/step - loss: 0.2400 - accuracy: 0.9053 - val_loss: 0.4362 - val_accuracy: 0.8330\n",
            "Epoch 6/50\n",
            "30/30 [==============================] - 14s 456ms/step - loss: 0.1987 - accuracy: 0.9237 - val_loss: 0.4566 - val_accuracy: 0.8372\n",
            "Epoch 7/50\n",
            "30/30 [==============================] - 14s 472ms/step - loss: 0.1959 - accuracy: 0.9233 - val_loss: 0.3902 - val_accuracy: 0.8441\n",
            "Epoch 8/50\n",
            "30/30 [==============================] - 14s 463ms/step - loss: 0.1698 - accuracy: 0.9354 - val_loss: 0.4774 - val_accuracy: 0.7980\n",
            "Epoch 9/50\n",
            "30/30 [==============================] - 14s 471ms/step - loss: 0.1584 - accuracy: 0.9400 - val_loss: 0.4422 - val_accuracy: 0.8435\n",
            "Epoch 10/50\n",
            "30/30 [==============================] - 14s 472ms/step - loss: 0.1419 - accuracy: 0.9478 - val_loss: 0.5222 - val_accuracy: 0.8339\n",
            "Epoch 11/50\n",
            "30/30 [==============================] - 14s 475ms/step - loss: 0.1154 - accuracy: 0.9557 - val_loss: 0.8345 - val_accuracy: 0.7810\n"
          ]
        }
      ],
      "source": [
        "model2_history = model2.fit(partial_x_train,\n",
        "                            partial_y_train,\n",
        "                            epochs=50,\n",
        "                            batch_size=512,\n",
        "                            callbacks=callbacks_list,\n",
        "                            validation_data=(x_val, y_val))"
      ]
    },
    {
      "cell_type": "code",
      "execution_count": null,
      "metadata": {
        "colab": {
          "base_uri": "https://localhost:8080/",
          "height": 303
        },
        "id": "FmvNTTEYunuw",
        "outputId": "cff3e263-bcbd-402e-9bd8-e8a3bf3e7c59"
      },
      "outputs": [
        {
          "data": {
            "text/plain": [
              "<matplotlib.legend.Legend at 0x7fb0d0109f50>"
            ]
          },
          "execution_count": 46,
          "metadata": {},
          "output_type": "execute_result"
        },
        {
          "data": {
            "image/png": "[encoded data removed]",
            "text/plain": [
              "<Figure size 432x288 with 1 Axes>"
            ]
          },
          "metadata": {},
          "output_type": "display_data"
        }
      ],
      "source": [
        "import matplotlib.pyplot as plt\n",
        "import seaborn as sns\n",
        "sns.set()\n",
        "\n",
        "train_acc2  = model2_history.history['accuracy']\n",
        "train_loss2 = model2_history.history['loss']\n",
        "val_acc2  = model2_history.history['val_accuracy']\n",
        "val_loss2 = model2_history.history['val_loss']\n",
        "\n",
        "epochs = range(1, len(train_acc2) + 1)\n",
        "\n",
        "plt.plot(epochs, train_loss2, label = 'Training Loss_cb')\n",
        "plt.plot(epochs, val_loss2, label = 'Validation Loss_cb')\n",
        "plt.xlabel('Epochs')\n",
        "plt.ylabel('Loss')\n",
        "plt.legend()"
      ]
    },
    {
      "cell_type": "markdown",
      "metadata": {
        "id": "LqyKvhyg2fM-"
      },
      "source": [
        "Now, let's evaluate our best model on the test data. We first need to load it."
      ]
    },
    {
      "cell_type": "code",
      "execution_count": null,
      "metadata": {
        "colab": {
          "base_uri": "https://localhost:8080/"
        },
        "id": "KWggQiXYue14",
        "outputId": "4100031f-5376-4ccc-fc76-5c07c67f2152"
      },
      "outputs": [
        {
          "name": "stderr",
          "output_type": "stream",
          "text": [
            "WARNING:tensorflow:Layer lstm_3 will not use cuDNN kernels since it doesn't meet the criteria. It will use a generic GPU kernel as fallback when running on GPU.\n"
          ]
        }
      ],
      "source": [
        "model2_best = models.load_model(\"checkpoint_model2.keras\")"
      ]
    },
    {
      "cell_type": "code",
      "execution_count": null,
      "metadata": {
        "colab": {
          "base_uri": "https://localhost:8080/"
        },
        "id": "ZNfhVPX2nLGQ",
        "outputId": "88c14c28-714b-42ac-fe2c-a069f405a1a4"
      },
      "outputs": [
        {
          "name": "stdout",
          "output_type": "stream",
          "text": [
            "782/782 [==============================] - 25s 31ms/step - loss: 0.3914 - accuracy: 0.8412\n"
          ]
        },
        {
          "data": {
            "text/plain": [
              "[0.3914257884025574, 0.8412399888038635]"
            ]
          },
          "execution_count": 48,
          "metadata": {},
          "output_type": "execute_result"
        }
      ],
      "source": [
        "# Evaluate the model on the test set\n",
        "model2_best.evaluate(x_test, y_test)"
      ]
    },
    {
      "cell_type": "markdown",
      "metadata": {
        "id": "83YE5VR11_iu"
      },
      "source": [
        "We see that using LSTM, recurrent dropout, and automatic early stopping via the callback method, we achieved 84.1% accuracy on the test dataset."
      ]
    }
  ],
  "metadata": {
    "accelerator": "GPU",
    "colab": {
      "provenance": []
    },
    "kernelspec": {
      "display_name": "Python 3",
      "language": "python",
      "name": "python3"
    },
    "language_info": {
      "codemirror_mode": {
        "name": "ipython",
        "version": 3
      },
      "file_extension": ".py",
      "mimetype": "text/x-python",
      "name": "python",
      "nbconvert_exporter": "python",
      "pygments_lexer": "ipython3",
      "version": "3.5.2"
    }
  },
  "nbformat": 4,
  "nbformat_minor": 0
}
