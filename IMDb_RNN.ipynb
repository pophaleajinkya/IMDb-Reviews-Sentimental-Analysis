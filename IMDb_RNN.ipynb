{
  "cells": [
    {
      "cell_type": "markdown",
      "metadata": {
        "id": "L8BWYUlYd1LM"
      },
      "source": [
        "\n",
        "\n",
        "## Sentiment Analysis using RNNs"
      ]
    },
    {
      "cell_type": "markdown",
      "metadata": {
        "id": "2UlwmFEj4avM"
      },
      "source": [
        "# One-hot encoding of words\n",
        "\n",
        "One-hot encoding is the most common, most basic way to turn a token (e.g., a word) into a vector. You already saw it in action in the IMDb example. One-hot encoding associates a unique integer index to every word, then\n",
        "turns this integer index i into a binary vector of size N, the size of the vocabulary, that would be all-zeros except for the i-th entry, which would be 1.\n"
      ]
    },
    {
      "cell_type": "markdown",
      "metadata": {
        "id": "_0iMxbIm4avm"
      },
      "source": [
        "Note that Keras has built-in utilities for doing one-hot encoding at the word level starting from raw text data.\n",
        "This is what you should use as it will take care of a number of important things, such as stripping special characters\n",
        "from strings, or only taking into account the top N most common words in your dataset (a common restriction to avoid dealing with very large input vector spaces)."
      ]
    },
    {
      "cell_type": "markdown",
      "metadata": {
        "id": "NjOqrbwr4avp"
      },
      "source": [
        "Using Keras for word-level one-hot encoding:"
      ]
    },
    {
      "cell_type": "code",
      "execution_count": null,
      "metadata": {
        "colab": {
          "base_uri": "https://localhost:8080/"
        },
        "id": "cXC8DNhB4avq",
        "outputId": "041eb24c-2782-4364-eb51-48e535470724"
      },
      "outputs": [
        {
          "name": "stdout",
          "output_type": "stream",
          "text": [
            "Found 9 unique tokens.\n"
          ]
        }
      ],
      "source": [
        "from tensorflow.keras.preprocessing.text import Tokenizer\n",
        "\n",
        "samples = ['The cat sat on the mat.', 'The dog ate my homework.']\n",
        "\n",
        "# We create an instance of tokenizer, configured to only take\n",
        "# into account the top 10000 most common words\n",
        "tokenizer = Tokenizer(num_words=10000)\n",
        "\n",
        "# This builds the word index\n",
        "tokenizer.fit_on_texts(samples)\n",
        "\n",
        "# This is how you can recover the word index that was computed above\n",
        "word_index = tokenizer.word_index\n",
        "print('Found %s unique tokens.' % len(word_index))\n",
        "\n",
        "# This turns strings into lists of integer indices\n",
        "# Note: the lengths will be different: vectors of size 6 and 5, respectively\n",
        "# FYI: If you only need to do one-hot-encoding, this line is not needed\n",
        "sequences = tokenizer.texts_to_sequences(samples)\n",
        "\n",
        "# You can directly get the one-hot-encoding vector as follows\n",
        "# Note: the lengths will be identical: vectors of size 10000 for both samples,\n",
        "# which is what we need for training our neural network\n",
        "one_hot_results = tokenizer.texts_to_matrix(samples, mode='binary')\n"
      ]
    },
    {
      "cell_type": "code",
      "execution_count": null,
      "metadata": {
        "colab": {
          "base_uri": "https://localhost:8080/"
        },
        "id": "-0_n8fyr6Lkj",
        "outputId": "e40c6a2a-00ba-410c-99af-623aca32dabb"
      },
      "outputs": [
        {
          "data": {
            "text/plain": [
              "{'the': 1,\n",
              " 'cat': 2,\n",
              " 'sat': 3,\n",
              " 'on': 4,\n",
              " 'mat': 5,\n",
              " 'dog': 6,\n",
              " 'ate': 7,\n",
              " 'my': 8,\n",
              " 'homework': 9}"
            ]
          },
          "execution_count": 2,
          "metadata": {},
          "output_type": "execute_result"
        }
      ],
      "source": [
        "word_index"
      ]
    },
    {
      "cell_type": "code",
      "execution_count": null,
      "metadata": {
        "colab": {
          "base_uri": "https://localhost:8080/"
        },
        "id": "aLZ4J8IEeUqe",
        "outputId": "6d377cd6-ef4c-44bb-cf13-b5aff1d7dffa"
      },
      "outputs": [
        {
          "data": {
            "text/plain": [
              "[[1, 2, 3, 4, 1, 5], [1, 6, 7, 8, 9]]"
            ]
          },
          "execution_count": 3,
          "metadata": {},
          "output_type": "execute_result"
        }
      ],
      "source": [
        "sequences"
      ]
    },
    {
      "cell_type": "code",
      "execution_count": null,
      "metadata": {
        "colab": {
          "base_uri": "https://localhost:8080/"
        },
        "id": "vFLkzd354355",
        "outputId": "750a4616-d862-4163-f092-74df7fac072f"
      },
      "outputs": [
        {
          "data": {
            "text/plain": [
              "array([[0., 1., 1., ..., 0., 0., 0.],\n",
              "       [0., 1., 0., ..., 0., 0., 0.]])"
            ]
          },
          "execution_count": 4,
          "metadata": {},
          "output_type": "execute_result"
        }
      ],
      "source": [
        "one_hot_results"
      ]
    },
    {
      "cell_type": "markdown",
      "metadata": {
        "id": "ADXw9zjg8e8B"
      },
      "source": [
        "# Using word embeddings\n",
        "\n",
        "Another popular and powerful way to associate a vector with a word is the use of dense \"word vectors,\" also called \"word embeddings.\"\n",
        "While the vectors obtained through one-hot encoding are binary, sparse (mostly made of zeros) and very high-dimensional (same dimensionality as the\n",
        "number of words in the vocabulary), \"word embeddings\" are low-dimensional floating point vectors\n",
        "(i.e. \"dense\" vectors, as opposed to sparse vectors).\n",
        "Unlike word vectors obtained via one-hot encoding, word embeddings are **learned** from data.\n",
        "\n",
        "It is common to see word embeddings that are 256-dimensional, 512-dimensional, or 1024-dimensional when dealing with very large vocabularies.\n",
        "On the other hand, one-hot encoding words generally leads to vectors that are 20,000-dimensional or higher (capturing a vocabulary of 20,000\n",
        "token in this case). So, word embeddings pack more information into far fewer dimensions."
      ]
    },
    {
      "cell_type": "markdown",
      "metadata": {
        "id": "D_rUmMA28520"
      },
      "source": [
        "![word embeddings vs. one hot encoding](https://s3.amazonaws.com/book.keras.io/img/ch6/word_embeddings.png)"
      ]
    },
    {
      "cell_type": "markdown",
      "metadata": {
        "id": "GNRwad4P87DN"
      },
      "source": [
        "There are two ways to obtain word embeddings:\n",
        "\n",
        "* Learn word embeddings jointly with the main task you care about (e.g. document classification or sentiment prediction).\n",
        "In this setup, you would start with random word vectors, then learn your word vectors in the same way that you learn the weights of a neural network.\n",
        "\n",
        "* Transfer learning! Load into your model word embeddings that were pre-computed using a different machine learning task than the one you are trying to solve. These are called \"pre-trained word embeddings.\"\n",
        "\n",
        "In this class, we will focus on the first method, which is more straightforward.\n"
      ]
    },
    {
      "cell_type": "markdown",
      "metadata": {
        "id": "3GvOHWV8A9KM"
      },
      "source": [
        "## Learning word embeddings with the `Embedding` layer\n",
        "\n",
        "The simplest way to associate a dense vector to a word would be to pick the vector at *random*. The problem with this approach is that the\n",
        "resulting embedding space would have no structure: for instance, the words \"awesome\" and \"amazing\" may end up with completely different\n",
        "embeddings, even though they are interchangeable in most sentences. It would be very difficult for a deep neural network to make sense of\n",
        "such a noisy, unstructured embedding space.\n",
        "\n",
        "To get a bit more abstract: the geometric relationships between word vectors should reflect the semantic relationships between these words.\n",
        "Word embeddings are meant to map human language into a geometric space. For instance, in a reasonable embedding space, we would expect\n",
        "synonyms to be embedded into similar word vectors, and in general we would expect the geometric distance (e.g. L2 distance) between any two\n",
        "word vectors to relate to the semantic distance of the associated words (words meaning very different things would be embedded to points\n",
        "far away from each other, while related words would be closer). In real-world word embedding spaces, common examples of meaningful geometric transformations are \"gender vectors\" and \"plural vector\". For\n",
        "instance, by adding a \"female vector\" to the vector \"king\", one obtain the vector \"queen\". By adding a \"plural vector\", one obtain \"kings\".\n",
        "Word embedding spaces typically feature thousands of such interpretable and potentially useful vectors.\n",
        "\n",
        "What makes a good word embedding space depends heavily on your task: the perfect word embedding space for an\n",
        "English-language movie review sentiment analysis model may look very different from the perfect embedding space for an English-language\n",
        "legal document classification model, because the importance of certain semantic relationships varies from task to task.\n",
        "\n",
        "It is thus reasonable to __learn__ a new embedding space with every new task if you have a large dataset. Thankfully, backpropagation makes this really easy, and Keras makes it\n",
        "even easier. It's just about learning the weights of a layer: the `Embedding` layer."
      ]
    },
    {
      "cell_type": "code",
      "execution_count": null,
      "metadata": {
        "colab": {
          "base_uri": "https://localhost:8080/",
          "height": 35
        },
        "id": "POxZbxJKFvSB",
        "outputId": "674c743d-8b43-42b9-8ad5-9bd25957efa3"
      },
      "outputs": [
        {
          "data": {
            "text/plain": [
              "<tensorflow.python.keras.layers.embeddings.Embedding at 0x7fc83f226a20>"
            ]
          },
          "execution_count": 2,
          "metadata": {
            "tags": []
          },
          "output_type": "execute_result"
        }
      ],
      "source": [
        "from tensorflow.keras import layers\n",
        "\n",
        "# The Embedding layer takes the following arguments:\n",
        "# *the number of possible tokens (size of vocabulary), here 10000\n",
        "# *the dimensionality of the embeddings, here 64 (a hyperparameter)\n",
        "# *the length of input sequences that will be fed into the Embedding layer\n",
        "layers.Embedding(10000, 64, input_length=100)"
      ]
    },
    {
      "cell_type": "markdown",
      "metadata": {
        "id": "CX60xJ3yGt95"
      },
      "source": [
        "The `Embedding` layer is best understood as a dictionary mapping integer indices (which stand for specific words) to dense vectors. It takes as input integers, it looks up these integers in an internal dictionary, and it returns the associated vectors. It's effectively a dictionary lookup.\n",
        "\n",
        "The `Embedding` layer takes as input a 2D tensor of integers, of shape (`samples`, `sequence_length`), where each entry is a sequence of integers. It can embed sequences of variable lengths, so for instance we could feed into our embedding layer above batches that could have shapes `(32, 10)` (batch of 32 sequences of length 10) or `(64, 15)` (batch of 64 sequences of length 15). **All sequences in a batch must have the same length** though (since we need to pack them into a single tensor), thus sequences that are shorter than others should be padded with zeros, and sequences that are longer should be truncated.\n",
        "\n",
        "This layer returns a 3D floating point tensor, of shape (`samples`, `sequence_length`, `embedding_dimensionality`). Such a 3D tensor can then be processed by an RNN layer.\n",
        "\n",
        "When you instantiate an `Embedding` layer, its weights (its internal dictionary of token vectors) are initially random, just like with any other layer. During training, these word vectors will be gradually adjusted via backpropagation, structuring the space into something that the downstream model can exploit. Once fully trained, your embedding space will have some structure for the specific problem you were training your model for."
      ]
    },
    {
      "cell_type": "markdown",
      "metadata": {
        "id": "eS0NLrFJJKQj"
      },
      "source": [
        "# IMDb Example\n",
        "\n",
        "Let's apply this idea to the IMDb movie review sentiment prediction task that you are already familiar with. Note that the IMDb data is already tokenized (each review is already converted to a list of integers). So, we only need to pad the lists to make sure they are the same size, then feed them into an embedding layer to get the word embeddings.\n",
        "\n"
      ]
    },
    {
      "cell_type": "markdown",
      "metadata": {
        "id": "eoqKwNg3arvE"
      },
      "source": [
        "Let's start by preparing the data. We will restrict the movie reviews to the top 10,000 most common words (like we did the first time we worked with this dataset), and cut the reviews after 100 words, or pad them to length 100, using the `pad_sequences` function below.\n"
      ]
    },
    {
      "cell_type": "code",
      "execution_count": null,
      "metadata": {
        "colab": {
          "base_uri": "https://localhost:8080/"
        },
        "id": "CHIYQpP1KI9o",
        "outputId": "f52d5080-ff14-44fc-ac33-88b501b14ef7"
      },
      "outputs": [
        {
          "name": "stdout",
          "output_type": "stream",
          "text": [
            "Downloading data from https://storage.googleapis.com/tensorflow/tf-keras-datasets/imdb.npz\n",
            "17465344/17464789 [==============================] - 0s 0us/step\n",
            "17473536/17464789 [==============================] - 0s 0us/step\n"
          ]
        }
      ],
      "source": [
        "from tensorflow.keras.datasets import imdb\n",
        "from tensorflow.keras import preprocessing\n",
        "\n",
        "# Load the data as lists of integers\n",
        "# We only keep the top 10,000 most frequently occurring words in the training data\n",
        "# (Rare words will be discarded as before)\n",
        "(x_train, y_train), (x_test, y_test) = imdb.load_data(num_words=10000)\n",
        "\n",
        "# IMPORTANT NOTE: The IMDb data are already tokenized (i.e., each review is\n",
        "# already converted to a list of integers. So, we skip the Tokenization step\n",
        "# and move directly to the padding step below.\n",
        "\n",
        "# Recall that our movie reviews have different lengths.\n",
        "# The following turns our lists of integers into a 2D integer tensor of shape `(samples, maxlen=100)`\n",
        "# In other words, for reviews shorter than 100 words, we add zeros to make the length=100;\n",
        "# for reviews longer than 100 words, we cut them after 100 words. (100 is arbitrary!)\n",
        "x_train = preprocessing.sequence.pad_sequences(x_train, maxlen=100)\n",
        "x_test = preprocessing.sequence.pad_sequences(x_test, maxlen=100)"
      ]
    },
    {
      "cell_type": "code",
      "execution_count": null,
      "metadata": {
        "colab": {
          "base_uri": "https://localhost:8080/"
        },
        "id": "rskLN7S1FDKQ",
        "outputId": "df54dc03-5a2e-4d10-cf56-5dc46cb53fbe"
      },
      "outputs": [
        {
          "data": {
            "text/plain": [
              "(25000, 100)"
            ]
          },
          "execution_count": 6,
          "metadata": {},
          "output_type": "execute_result"
        }
      ],
      "source": [
        "x_train.shape"
      ]
    },
    {
      "cell_type": "code",
      "execution_count": null,
      "metadata": {
        "colab": {
          "base_uri": "https://localhost:8080/"
        },
        "id": "SWV89f9pFGqt",
        "outputId": "24304f21-a8c2-421a-82d6-da4790e82e99"
      },
      "outputs": [
        {
          "data": {
            "text/plain": [
              "(25000, 100)"
            ]
          },
          "execution_count": 7,
          "metadata": {},
          "output_type": "execute_result"
        }
      ],
      "source": [
        "x_test.shape"
      ]
    },
    {
      "cell_type": "markdown",
      "metadata": {
        "id": "FV1zrXbgw618"
      },
      "source": [
        "In order to monitor during training the accuracy of the model on data that it has never seen before, we will create a \"validation set\" by setting apart 10,000 samples from the original training data:"
      ]
    },
    {
      "cell_type": "code",
      "execution_count": null,
      "metadata": {
        "id": "-gLMkLrzw7W4"
      },
      "outputs": [],
      "source": [
        "from sklearn.utils import shuffle\n",
        "x_train, y_train = shuffle(x_train, y_train)\n",
        "\n",
        "x_val = x_train[:10000]\n",
        "partial_x_train = x_train[10000:]\n",
        "\n",
        "y_val = y_train[:10000]\n",
        "partial_y_train = y_train[10000:]"
      ]
    },
    {
      "cell_type": "markdown",
      "metadata": {
        "id": "BuDY_LIvZDjc"
      },
      "source": [
        "## A simple RNN model\n",
        "\n",
        "We'll first develop a model with a `SimpleRNN` layer with 64 units. We use an `Embedding` layer to obtain word embeddings, then we feed them into our RNN layer.\n",
        "Recall the the size of our vocabulary is 10,000 and the length of each input sample (review) is 100 words. In here, 128 is the dimension for the word embeddings (each word will be converted into a vector with 128 numbers). 128 is a hyperparameter."
      ]
    },
    {
      "cell_type": "code",
      "execution_count": null,
      "metadata": {
        "id": "VwMsWwHcaBNF"
      },
      "outputs": [],
      "source": [
        "from tensorflow.keras import models\n",
        "from tensorflow.keras import layers\n",
        "\n",
        "model1 = models.Sequential()\n",
        "\n",
        "model1.add(layers.Embedding(10000, 128, input_length=100))\n",
        "\n",
        "model1.add(layers.SimpleRNN(64))\n",
        "\n",
        "# The output unit must have 'sigmoid' activation since this is a binary classification\n",
        "model1.add(layers.Dense(1, activation='sigmoid'))"
      ]
    },
    {
      "cell_type": "code",
      "execution_count": null,
      "metadata": {
        "colab": {
          "base_uri": "https://localhost:8080/"
        },
        "id": "hz1FXzWWJSCf",
        "outputId": "5c2fcfbc-f9c2-4244-9ef9-ef9f17419201"
      },
      "outputs": [
        {
          "name": "stdout",
          "output_type": "stream",
          "text": [
            "Model: \"sequential\"\n",
            "_________________________________________________________________\n",
            " Layer (type)                Output Shape              Param #   \n",
            "=================================================================\n",
            " embedding (Embedding)       (None, 100, 128)          1280000   \n",
            "                                                                 \n",
            " simple_rnn (SimpleRNN)      (None, 64)                12352     \n",
            "                                                                 \n",
            " dense (Dense)               (None, 1)                 65        \n",
            "                                                                 \n",
            "=================================================================\n",
            "Total params: 1,292,417\n",
            "Trainable params: 1,292,417\n",
            "Non-trainable params: 0\n",
            "_________________________________________________________________\n"
          ]
        }
      ],
      "source": [
        "model1.summary()"
      ]
    },
    {
      "cell_type": "markdown",
      "metadata": {
        "id": "PmBJxRZl4s5s"
      },
      "source": [
        "We decided to include 10,000 words in the vocabulary. The embedding layer needs to embed each word into a 128-dimensional space. In other words, the embedding layer is going to find a word vector of length 128 for each of the 10,000 words in the vocabulary. This means that the embedding layer has to learn 10,000 * 128 = 1,280,000 parameters.\n",
        "\n",
        "The simple RNN layer has 64 units (nodes). Each unit is fully connected to the 128 values of word embeddings. Each unit is also fully connected to 64 values of the hidden state from the previous time period (see the lecture slides for more info). Moreover, each unit has one bias term. Thus, the simple RNN layer has (64 * 128) + (64 * 64) + 64 = 12,352 learnable parameters.\n",
        "\n",
        "The last layer has only one node that is fully connected to the 64 values coming out of the recurrent layer. It also has a bias term. Thus, the last layer has 64 + 1 = 65 learnable parameters."
      ]
    },
    {
      "cell_type": "code",
      "execution_count": null,
      "metadata": {
        "id": "mbO2Eo7xcMKN"
      },
      "outputs": [],
      "source": [
        "model1.compile(loss='binary_crossentropy', optimizer='rmsprop',  metrics=['accuracy'])"
      ]
    },
    {
      "cell_type": "code",
      "execution_count": null,
      "metadata": {
        "colab": {
          "base_uri": "https://localhost:8080/",
          "height": 764
        },
        "id": "MvyFKUKBcRWe",
        "outputId": "0fb7e36d-a035-4bc1-ef6d-a7367f9db1a3"
      },
      "outputs": [
        {
          "name": "stdout",
          "output_type": "stream",
          "text": [
            "Epoch 1/20\n",
            "30/30 [==============================] - 8s 264ms/step - loss: 0.6819 - accuracy: 0.5593 - val_loss: 0.6524 - val_accuracy: 0.5998\n",
            "Epoch 2/20\n",
            "30/30 [==============================] - 8s 254ms/step - loss: 0.5077 - accuracy: 0.7805 - val_loss: 0.5233 - val_accuracy: 0.7489\n",
            "Epoch 3/20\n",
            "30/30 [==============================] - 8s 258ms/step - loss: 0.3004 - accuracy: 0.8962 - val_loss: 0.4960 - val_accuracy: 0.7651\n",
            "Epoch 4/20\n",
            "30/30 [==============================] - 8s 259ms/step - loss: 0.1617 - accuracy: 0.9551 - val_loss: 0.4680 - val_accuracy: 0.8136\n",
            "Epoch 5/20\n",
            "30/30 [==============================] - 8s 261ms/step - loss: 0.0846 - accuracy: 0.9841 - val_loss: 0.5034 - val_accuracy: 0.8066\n",
            "Epoch 6/20\n",
            "30/30 [==============================] - 8s 256ms/step - loss: 0.0388 - accuracy: 0.9937 - val_loss: 0.6458 - val_accuracy: 0.7291\n",
            "Epoch 7/20\n",
            "30/30 [==============================] - 8s 259ms/step - loss: 0.0350 - accuracy: 0.9911 - val_loss: 0.5308 - val_accuracy: 0.8063\n",
            "Epoch 8/20\n",
            "30/30 [==============================] - 8s 267ms/step - loss: 0.0184 - accuracy: 0.9965 - val_loss: 0.8166 - val_accuracy: 0.6806\n",
            "Epoch 9/20\n",
            "30/30 [==============================] - 8s 261ms/step - loss: 0.0076 - accuracy: 0.9993 - val_loss: 0.5936 - val_accuracy: 0.7922\n",
            "Epoch 10/20\n",
            "30/30 [==============================] - 8s 261ms/step - loss: 0.0016 - accuracy: 1.0000 - val_loss: 0.6579 - val_accuracy: 0.7868\n",
            "Epoch 11/20\n",
            "30/30 [==============================] - 8s 262ms/step - loss: 0.0216 - accuracy: 0.9920 - val_loss: 0.6811 - val_accuracy: 0.7883\n",
            "Epoch 12/20\n",
            "30/30 [==============================] - 8s 263ms/step - loss: 0.0094 - accuracy: 0.9973 - val_loss: 0.8436 - val_accuracy: 0.7161\n",
            "Epoch 13/20\n",
            "30/30 [==============================] - 8s 260ms/step - loss: 0.0012 - accuracy: 0.9999 - val_loss: 0.6876 - val_accuracy: 0.7934\n",
            "Epoch 14/20\n",
            "30/30 [==============================] - 8s 263ms/step - loss: 3.1144e-04 - accuracy: 1.0000 - val_loss: 0.7129 - val_accuracy: 0.7998\n",
            "Epoch 15/20\n",
            "30/30 [==============================] - 8s 257ms/step - loss: 1.2903e-04 - accuracy: 1.0000 - val_loss: 0.7765 - val_accuracy: 0.7922\n",
            "Epoch 16/20\n",
            "30/30 [==============================] - 8s 262ms/step - loss: 0.0315 - accuracy: 0.9891 - val_loss: 1.0759 - val_accuracy: 0.6977\n",
            "Epoch 17/20\n",
            "30/30 [==============================] - 8s 261ms/step - loss: 0.0015 - accuracy: 0.9997 - val_loss: 0.8678 - val_accuracy: 0.7570\n",
            "Epoch 18/20\n",
            "30/30 [==============================] - 8s 260ms/step - loss: 1.0905e-04 - accuracy: 1.0000 - val_loss: 0.8480 - val_accuracy: 0.7649\n",
            "Epoch 19/20\n",
            "30/30 [==============================] - 8s 258ms/step - loss: 6.0204e-05 - accuracy: 1.0000 - val_loss: 0.8484 - val_accuracy: 0.7727\n",
            "Epoch 20/20\n",
            "30/30 [==============================] - 8s 261ms/step - loss: 2.8819e-05 - accuracy: 1.0000 - val_loss: 0.8706 - val_accuracy: 0.7795\n"
          ]
        }
      ],
      "source": [
        "model1_history = model1.fit(partial_x_train,\n",
        "                            partial_y_train,\n",
        "                            epochs=20,\n",
        "                            batch_size=512,\n",
        "                            validation_data=(x_val, y_val))"
      ]
    },
    {
      "cell_type": "code",
      "execution_count": null,
      "metadata": {
        "colab": {
          "base_uri": "https://localhost:8080/",
          "height": 360
        },
        "id": "TL9LwLXgcveA",
        "outputId": "f0319457-bc11-46c4-e047-583b2cb59949"
      },
      "outputs": [
        {
          "name": "stderr",
          "output_type": "stream",
          "text": [
            "/usr/local/lib/python3.6/dist-packages/statsmodels/tools/_testing.py:19: FutureWarning: pandas.util.testing is deprecated. Use the functions in the public API at pandas.testing instead.\n",
            "  import pandas.util.testing as tm\n"
          ]
        },
        {
          "data": {
            "text/plain": [
              "<matplotlib.legend.Legend at 0x7fc7f96698d0>"
            ]
          },
          "execution_count": 11,
          "metadata": {
            "tags": []
          },
          "output_type": "execute_result"
        },
        {
          "data": {
            "image/png": "[encoded data removed]",
            "text/plain": [
              "<Figure size 432x288 with 1 Axes>"
            ]
          },
          "metadata": {
            "tags": []
          },
          "output_type": "display_data"
        }
      ],
      "source": [
        "import matplotlib.pyplot as plt\n",
        "import seaborn as sns\n",
        "sns.set()\n",
        "\n",
        "train_acc1  = model1_history.history['accuracy']\n",
        "train_loss1 = model1_history.history['loss']\n",
        "val_acc1  = model1_history.history['val_accuracy']\n",
        "val_loss1 = model1_history.history['val_loss']\n",
        "\n",
        "epochs = range(1, len(train_acc1) + 1)\n",
        "\n",
        "plt.plot(epochs, train_loss1, label = 'Training Loss')\n",
        "plt.plot(epochs, val_loss1, label = 'Validation Loss')\n",
        "plt.xlabel('Epochs')\n",
        "plt.ylabel('Loss')\n",
        "plt.legend()"
      ]
    },
    {
      "cell_type": "code",
      "execution_count": null,
      "metadata": {
        "colab": {
          "base_uri": "https://localhost:8080/",
          "height": 303
        },
        "id": "_TUyx_hfc12j",
        "outputId": "b610492e-8b40-4811-dd77-293612d4d100"
      },
      "outputs": [
        {
          "data": {
            "text/plain": [
              "<matplotlib.legend.Legend at 0x7fc7f914df98>"
            ]
          },
          "execution_count": 12,
          "metadata": {
            "tags": []
          },
          "output_type": "execute_result"
        },
        {
          "data": {
            "image/png": "[encoded data removed]",
            "text/plain": [
              "<Figure size 432x288 with 1 Axes>"
            ]
          },
          "metadata": {
            "tags": []
          },
          "output_type": "display_data"
        }
      ],
      "source": [
        "plt.plot(epochs, train_acc1, label = 'Training Accuracy')\n",
        "plt.plot(epochs, val_acc1, label = 'Validation Accuracy')\n",
        "plt.xlabel('Epochs')\n",
        "plt.ylabel('Accuracy')\n",
        "plt.legend()"
      ]
    },
    {
      "cell_type": "code",
      "execution_count": null,
      "metadata": {
        "colab": {
          "base_uri": "https://localhost:8080/",
          "height": 53
        },
        "id": "7-uNEuvmqsv3",
        "outputId": "33a964b8-1637-4663-836d-52f4c82c87db"
      },
      "outputs": [
        {
          "name": "stdout",
          "output_type": "stream",
          "text": [
            "782/782 [==============================] - 7s 9ms/step - loss: 0.8891 - accuracy: 0.7762\n"
          ]
        },
        {
          "data": {
            "text/plain": [
              "[0.8891065716743469, 0.7761600017547607]"
            ]
          },
          "execution_count": 13,
          "metadata": {
            "tags": []
          },
          "output_type": "execute_result"
        }
      ],
      "source": [
        "# Evaluate the model on the test set\n",
        "model1.evaluate(x_test, y_test)"
      ]
    },
    {
      "cell_type": "markdown",
      "metadata": {
        "id": "ARv1cV2u-ukG"
      },
      "source": [
        "The simple RNN model achieves 77.6% accuracy on the test data."
      ]
    },
    {
      "cell_type": "markdown",
      "metadata": {
        "id": "B6728DC2s_p5"
      },
      "source": [
        "## Using an `Embedding` Layer with Masking Enabled"
      ]
    },
    {
      "cell_type": "markdown",
      "metadata": {
        "id": "Okm6AppstLsa"
      },
      "source": [
        "In this section, we create the same RNN model, but this time we will enable masking. This is expected to improve the performance of our simple RNN."
      ]
    },
    {
      "cell_type": "code",
      "execution_count": null,
      "metadata": {
        "id": "CBDZa3D3rQpz"
      },
      "outputs": [],
      "source": [
        "from tensorflow.keras import models\n",
        "from tensorflow.keras import layers\n",
        "\n",
        "model2 = models.Sequential()\n",
        "\n",
        "model2.add(layers.Embedding(10000, 128, input_length=100, mask_zero=True))\n",
        "\n",
        "model2.add(layers.SimpleRNN(64))\n",
        "\n",
        "model2.add(layers.Dense(1, activation='sigmoid'))"
      ]
    },
    {
      "cell_type": "code",
      "execution_count": null,
      "metadata": {
        "id": "WC_eujejrdzJ"
      },
      "outputs": [],
      "source": [
        "model2.compile(loss='binary_crossentropy', optimizer='rmsprop',  metrics=['accuracy'])"
      ]
    },
    {
      "cell_type": "code",
      "execution_count": null,
      "metadata": {
        "colab": {
          "base_uri": "https://localhost:8080/"
        },
        "id": "quDSpdVuriF_",
        "outputId": "a6d8068d-b44f-4d2d-c45c-17f7daa72384"
      },
      "outputs": [
        {
          "name": "stdout",
          "output_type": "stream",
          "text": [
            "Epoch 1/20\n",
            "30/30 [==============================] - 9s 242ms/step - loss: 0.6696 - accuracy: 0.5893 - val_loss: 0.7050 - val_accuracy: 0.5533\n",
            "Epoch 2/20\n",
            "30/30 [==============================] - 8s 282ms/step - loss: 0.4924 - accuracy: 0.7923 - val_loss: 0.4443 - val_accuracy: 0.8145\n",
            "Epoch 3/20\n",
            "30/30 [==============================] - 7s 220ms/step - loss: 0.3052 - accuracy: 0.8887 - val_loss: 0.4659 - val_accuracy: 0.7821\n",
            "Epoch 4/20\n",
            "30/30 [==============================] - 7s 217ms/step - loss: 0.1750 - accuracy: 0.9480 - val_loss: 0.5755 - val_accuracy: 0.7173\n",
            "Epoch 5/20\n",
            "30/30 [==============================] - 7s 218ms/step - loss: 0.0892 - accuracy: 0.9807 - val_loss: 0.5914 - val_accuracy: 0.7284\n",
            "Epoch 6/20\n",
            "30/30 [==============================] - 6s 214ms/step - loss: 0.0892 - accuracy: 0.9723 - val_loss: 0.4768 - val_accuracy: 0.8085\n",
            "Epoch 7/20\n",
            "30/30 [==============================] - 6s 210ms/step - loss: 0.0195 - accuracy: 0.9989 - val_loss: 0.5034 - val_accuracy: 0.8097\n",
            "Epoch 8/20\n",
            "30/30 [==============================] - 6s 212ms/step - loss: 0.0311 - accuracy: 0.9909 - val_loss: 0.5449 - val_accuracy: 0.8001\n",
            "Epoch 9/20\n",
            "30/30 [==============================] - 7s 219ms/step - loss: 0.0080 - accuracy: 0.9994 - val_loss: 0.8218 - val_accuracy: 0.6913\n",
            "Epoch 10/20\n",
            "30/30 [==============================] - 6s 217ms/step - loss: 0.0246 - accuracy: 0.9919 - val_loss: 0.6001 - val_accuracy: 0.7964\n",
            "Epoch 11/20\n",
            "30/30 [==============================] - 6s 210ms/step - loss: 0.0020 - accuracy: 1.0000 - val_loss: 0.6135 - val_accuracy: 0.8123\n",
            "Epoch 12/20\n",
            "30/30 [==============================] - 6s 217ms/step - loss: 0.0300 - accuracy: 0.9895 - val_loss: 0.7295 - val_accuracy: 0.7446\n",
            "Epoch 13/20\n",
            "30/30 [==============================] - 6s 214ms/step - loss: 0.0019 - accuracy: 1.0000 - val_loss: 0.6339 - val_accuracy: 0.8067\n",
            "Epoch 14/20\n",
            "30/30 [==============================] - 7s 229ms/step - loss: 5.8057e-04 - accuracy: 1.0000 - val_loss: 0.6993 - val_accuracy: 0.7860\n",
            "Epoch 15/20\n",
            "30/30 [==============================] - 7s 238ms/step - loss: 2.4753e-04 - accuracy: 1.0000 - val_loss: 0.8640 - val_accuracy: 0.7472\n",
            "Epoch 16/20\n",
            "30/30 [==============================] - 9s 289ms/step - loss: 0.0272 - accuracy: 0.9895 - val_loss: 0.7243 - val_accuracy: 0.8052\n",
            "Epoch 17/20\n",
            "30/30 [==============================] - 6s 210ms/step - loss: 2.9292e-04 - accuracy: 1.0000 - val_loss: 0.7367 - val_accuracy: 0.8077\n",
            "Epoch 18/20\n",
            "30/30 [==============================] - 7s 222ms/step - loss: 1.4454e-04 - accuracy: 1.0000 - val_loss: 0.7732 - val_accuracy: 0.8071\n",
            "Epoch 19/20\n",
            "30/30 [==============================] - 6s 212ms/step - loss: 6.9856e-05 - accuracy: 1.0000 - val_loss: 0.8251 - val_accuracy: 0.8169\n",
            "Epoch 20/20\n",
            "30/30 [==============================] - 6s 217ms/step - loss: 0.0243 - accuracy: 0.9910 - val_loss: 0.8476 - val_accuracy: 0.7975\n"
          ]
        }
      ],
      "source": [
        "model2_history = model2.fit(partial_x_train,\n",
        "                            partial_y_train,\n",
        "                            epochs=20,\n",
        "                            batch_size=512,\n",
        "                            validation_data=(x_val, y_val))"
      ]
    },
    {
      "cell_type": "code",
      "execution_count": null,
      "metadata": {
        "colab": {
          "base_uri": "https://localhost:8080/",
          "height": 303
        },
        "id": "VS-HaBSlskvx",
        "outputId": "1f306cac-4b1c-4846-efd4-5410415a9448"
      },
      "outputs": [
        {
          "data": {
            "text/plain": [
              "<matplotlib.legend.Legend at 0x7f6906793150>"
            ]
          },
          "execution_count": 23,
          "metadata": {},
          "output_type": "execute_result"
        },
        {
          "data": {
            "image/png": "[encoded data removed]",
            "text/plain": [
              "<Figure size 432x288 with 1 Axes>"
            ]
          },
          "metadata": {},
          "output_type": "display_data"
        }
      ],
      "source": [
        "import matplotlib.pyplot as plt\n",
        "import seaborn as sns\n",
        "sns.set()\n",
        "\n",
        "train_acc2  = model2_history.history['accuracy']\n",
        "train_loss2 = model2_history.history['loss']\n",
        "val_acc2  = model2_history.history['val_accuracy']\n",
        "val_loss2 = model2_history.history['val_loss']\n",
        "\n",
        "epochs = range(1, len(train_acc2) + 1)\n",
        "\n",
        "plt.plot(epochs, train_loss2, label = 'Training Loss')\n",
        "plt.plot(epochs, val_loss2, label = 'Validation Loss')\n",
        "plt.xlabel('Epochs')\n",
        "plt.ylabel('Loss')\n",
        "plt.legend()"
      ]
    },
    {
      "cell_type": "code",
      "execution_count": null,
      "metadata": {
        "colab": {
          "base_uri": "https://localhost:8080/",
          "height": 303
        },
        "id": "zwXZvNMZs7B3",
        "outputId": "704ae3a5-2960-444e-d6b5-aa65da9ab873"
      },
      "outputs": [
        {
          "data": {
            "text/plain": [
              "<matplotlib.legend.Legend at 0x7f690601a690>"
            ]
          },
          "execution_count": 24,
          "metadata": {},
          "output_type": "execute_result"
        },
        {
          "data": {
            "image/png": "[encoded data removed]",
            "text/plain": [
              "<Figure size 432x288 with 1 Axes>"
            ]
          },
          "metadata": {},
          "output_type": "display_data"
        }
      ],
      "source": [
        "plt.plot(epochs, train_acc2, label = 'Training Accuracy')\n",
        "plt.plot(epochs, val_acc2, label = 'Validation Accuracy')\n",
        "plt.xlabel('Epochs')\n",
        "plt.ylabel('Accuracy')\n",
        "plt.legend()"
      ]
    },
    {
      "cell_type": "code",
      "execution_count": null,
      "metadata": {
        "colab": {
          "base_uri": "https://localhost:8080/"
        },
        "id": "k3fZGnlCrnnO",
        "outputId": "a7615458-26dd-43f4-c953-94886e3fc6bc"
      },
      "outputs": [
        {
          "name": "stdout",
          "output_type": "stream",
          "text": [
            "782/782 [==============================] - 13s 16ms/step - loss: 0.8756 - accuracy: 0.7899\n"
          ]
        },
        {
          "data": {
            "text/plain": [
              "[0.8755772709846497, 0.7899199724197388]"
            ]
          },
          "execution_count": 22,
          "metadata": {},
          "output_type": "execute_result"
        }
      ],
      "source": [
        "# Evaluate the model on the test set\n",
        "model2.evaluate(x_test, y_test)"
      ]
    },
    {
      "cell_type": "markdown",
      "metadata": {
        "id": "qHv27oNPtdqZ"
      },
      "source": [
        "We can see that by masking the zero paddings, our simple RNN model achieves an accuracy of about 79% on the test dataset."
      ]
    },
    {
      "cell_type": "markdown",
      "metadata": {
        "id": "4i-C2kHIAXYW"
      },
      "source": [
        "## An LSTM model\n",
        "\n",
        "Next, replace the RNN layer with an LSTM layer with the same number of units (64). We use the same `Embedding` layer as before."
      ]
    },
    {
      "cell_type": "code",
      "execution_count": null,
      "metadata": {
        "id": "-LSevieUAWxS"
      },
      "outputs": [],
      "source": [
        "model3 = models.Sequential()\n",
        "\n",
        "model3.add(layers.Embedding(10000, 128, input_length=100))\n",
        "\n",
        "model3.add(layers.LSTM(64))\n",
        "\n",
        "# The output unit must have 'sigmoid' activation since this is a binary classification\n",
        "model3.add(layers.Dense(1, activation='sigmoid'))"
      ]
    },
    {
      "cell_type": "code",
      "execution_count": null,
      "metadata": {
        "id": "WuZog9I7Al97"
      },
      "outputs": [],
      "source": [
        "model3.compile(loss='binary_crossentropy', optimizer='rmsprop',  metrics=['accuracy'])"
      ]
    },
    {
      "cell_type": "code",
      "execution_count": null,
      "metadata": {
        "colab": {
          "base_uri": "https://localhost:8080/"
        },
        "id": "kYQtzIfWAr8K",
        "outputId": "f6f21241-e7d3-44ce-b70a-8c758ef35a70"
      },
      "outputs": [
        {
          "name": "stdout",
          "output_type": "stream",
          "text": [
            "Epoch 1/20\n",
            "30/30 [==============================] - 3s 36ms/step - loss: 0.5908 - accuracy: 0.6961 - val_loss: 0.4274 - val_accuracy: 0.8155\n",
            "Epoch 2/20\n",
            "30/30 [==============================] - 1s 19ms/step - loss: 0.3831 - accuracy: 0.8425 - val_loss: 0.3883 - val_accuracy: 0.8260\n",
            "Epoch 3/20\n",
            "30/30 [==============================] - 1s 18ms/step - loss: 0.2991 - accuracy: 0.8802 - val_loss: 0.3689 - val_accuracy: 0.8469\n",
            "Epoch 4/20\n",
            "30/30 [==============================] - 1s 18ms/step - loss: 0.2485 - accuracy: 0.9075 - val_loss: 0.5153 - val_accuracy: 0.7805\n",
            "Epoch 5/20\n",
            "30/30 [==============================] - 1s 19ms/step - loss: 0.2272 - accuracy: 0.9135 - val_loss: 0.4041 - val_accuracy: 0.8463\n",
            "Epoch 6/20\n",
            "30/30 [==============================] - 1s 19ms/step - loss: 0.1901 - accuracy: 0.9293 - val_loss: 0.4341 - val_accuracy: 0.7979\n",
            "Epoch 7/20\n",
            "30/30 [==============================] - 1s 18ms/step - loss: 0.1808 - accuracy: 0.9348 - val_loss: 0.4117 - val_accuracy: 0.8310\n",
            "Epoch 8/20\n",
            "30/30 [==============================] - 1s 19ms/step - loss: 0.1545 - accuracy: 0.9429 - val_loss: 0.4116 - val_accuracy: 0.8465\n",
            "Epoch 9/20\n",
            "30/30 [==============================] - 1s 20ms/step - loss: 0.1396 - accuracy: 0.9490 - val_loss: 0.3926 - val_accuracy: 0.8453\n",
            "Epoch 10/20\n",
            "30/30 [==============================] - 1s 18ms/step - loss: 0.1162 - accuracy: 0.9592 - val_loss: 0.5105 - val_accuracy: 0.8261\n",
            "Epoch 11/20\n",
            "30/30 [==============================] - 1s 18ms/step - loss: 0.1161 - accuracy: 0.9559 - val_loss: 0.5924 - val_accuracy: 0.8211\n",
            "Epoch 12/20\n",
            "30/30 [==============================] - 1s 19ms/step - loss: 0.1025 - accuracy: 0.9616 - val_loss: 0.6282 - val_accuracy: 0.8210\n",
            "Epoch 13/20\n",
            "30/30 [==============================] - 1s 18ms/step - loss: 0.0929 - accuracy: 0.9667 - val_loss: 0.5292 - val_accuracy: 0.8005\n",
            "Epoch 14/20\n",
            "30/30 [==============================] - 1s 18ms/step - loss: 0.0948 - accuracy: 0.9634 - val_loss: 0.5777 - val_accuracy: 0.8312\n",
            "Epoch 15/20\n",
            "30/30 [==============================] - 1s 20ms/step - loss: 0.0742 - accuracy: 0.9748 - val_loss: 0.4823 - val_accuracy: 0.8043\n",
            "Epoch 16/20\n",
            "30/30 [==============================] - 1s 18ms/step - loss: 0.0653 - accuracy: 0.9788 - val_loss: 0.6521 - val_accuracy: 0.8312\n",
            "Epoch 17/20\n",
            "30/30 [==============================] - 1s 18ms/step - loss: 0.0658 - accuracy: 0.9749 - val_loss: 0.5943 - val_accuracy: 0.8259\n",
            "Epoch 18/20\n",
            "30/30 [==============================] - 1s 18ms/step - loss: 0.0491 - accuracy: 0.9837 - val_loss: 0.6358 - val_accuracy: 0.8318\n",
            "Epoch 19/20\n",
            "30/30 [==============================] - 1s 19ms/step - loss: 0.0612 - accuracy: 0.9808 - val_loss: 0.6268 - val_accuracy: 0.8314\n",
            "Epoch 20/20\n",
            "30/30 [==============================] - 1s 19ms/step - loss: 0.0673 - accuracy: 0.9793 - val_loss: 0.6599 - val_accuracy: 0.8281\n"
          ]
        }
      ],
      "source": [
        "model3_history = model3.fit(partial_x_train,\n",
        "                            partial_y_train,\n",
        "                            epochs=20,\n",
        "                            batch_size=512,\n",
        "                            validation_data=(x_val, y_val))"
      ]
    },
    {
      "cell_type": "code",
      "execution_count": null,
      "metadata": {
        "colab": {
          "base_uri": "https://localhost:8080/",
          "height": 303
        },
        "id": "wSSOfYy2AwB-",
        "outputId": "39b3fe26-fe26-46c0-a829-33f999657a7e"
      },
      "outputs": [
        {
          "data": {
            "text/plain": [
              "<matplotlib.legend.Legend at 0x7f6903871e90>"
            ]
          },
          "execution_count": 36,
          "metadata": {},
          "output_type": "execute_result"
        },
        {
          "data": {
            "image/png": "[encoded data removed]",
            "text/plain": [
              "<Figure size 432x288 with 1 Axes>"
            ]
          },
          "metadata": {},
          "output_type": "display_data"
        }
      ],
      "source": [
        "import matplotlib.pyplot as plt\n",
        "import seaborn as sns\n",
        "sns.set()\n",
        "\n",
        "train_acc3  = model3_history.history['accuracy']\n",
        "train_loss3 = model3_history.history['loss']\n",
        "val_acc3  = model3_history.history['val_accuracy']\n",
        "val_loss3 = model3_history.history['val_loss']\n",
        "\n",
        "epochs = range(1, len(train_acc3) + 1)\n",
        "\n",
        "plt.plot(epochs, train_loss3, label = 'Training Loss')\n",
        "plt.plot(epochs, val_loss3, label = 'Validation Loss')\n",
        "plt.xlabel('Epochs')\n",
        "plt.ylabel('Loss')\n",
        "plt.legend()"
      ]
    },
    {
      "cell_type": "code",
      "execution_count": null,
      "metadata": {
        "colab": {
          "base_uri": "https://localhost:8080/",
          "height": 303
        },
        "id": "DEo_N9TmA1VV",
        "outputId": "0eee0181-47d4-453b-c941-f56b168cef21"
      },
      "outputs": [
        {
          "data": {
            "text/plain": [
              "<matplotlib.legend.Legend at 0x7f69038dea90>"
            ]
          },
          "execution_count": 37,
          "metadata": {},
          "output_type": "execute_result"
        },
        {
          "data": {
            "image/png": "[encoded data removed]",
            "text/plain": [
              "<Figure size 432x288 with 1 Axes>"
            ]
          },
          "metadata": {},
          "output_type": "display_data"
        }
      ],
      "source": [
        "plt.plot(epochs, train_acc3, label = 'Training Accuracy')\n",
        "plt.plot(epochs, val_acc3, label = 'Validation Accuracy')\n",
        "plt.xlabel('Epochs')\n",
        "plt.ylabel('Accuracy')\n",
        "plt.legend()"
      ]
    },
    {
      "cell_type": "code",
      "execution_count": null,
      "metadata": {
        "colab": {
          "base_uri": "https://localhost:8080/",
          "height": 53
        },
        "id": "lxwnpRLEqvC7",
        "outputId": "61a2d488-079b-4a94-9c89-6fdcc77a6ab3"
      },
      "outputs": [
        {
          "name": "stdout",
          "output_type": "stream",
          "text": [
            "782/782 [==============================] - 14s 18ms/step - loss: 0.6930 - accuracy: 0.8164\n"
          ]
        },
        {
          "data": {
            "text/plain": [
              "[0.6930272579193115, 0.8163999915122986]"
            ]
          },
          "execution_count": 19,
          "metadata": {
            "tags": []
          },
          "output_type": "execute_result"
        }
      ],
      "source": [
        "# Evaluate the model on the test set\n",
        "model3.evaluate(x_test, y_test)"
      ]
    },
    {
      "cell_type": "markdown",
      "metadata": {
        "id": "KMwSCTqN_EsJ"
      },
      "source": [
        "The LSTM model achieves 81.6% accuracy on the test data."
      ]
    },
    {
      "cell_type": "markdown",
      "metadata": {
        "id": "wuUNqXazltAa"
      },
      "source": [
        "## A stack of LSTM layers\n",
        "\n",
        "It is sometimes useful to stack several recurrent layers one after\n",
        "the other in order to increase the representational power of a\n",
        "network. In such a setup, you have to get all intermediate layers to return full sequences. To do so, we will have to set the `return_sequences` argument to `True` for all the intermediate LSTM layers and set it to `False` for the last LSTM layer (or just don't define it since the default is `return_sequences=False`).\n",
        "\n",
        "In here, we are going to stack 3 layers of LSTM on top of each other, then connect the network to a classifier."
      ]
    },
    {
      "cell_type": "code",
      "execution_count": null,
      "metadata": {
        "id": "g1wISDXWltmg"
      },
      "outputs": [],
      "source": [
        "model4 = models.Sequential()\n",
        "\n",
        "model4.add(layers.Embedding(10000, 128, input_length=100))\n",
        "\n",
        "model4.add(layers.LSTM(64, return_sequences=True))\n",
        "model4.add(layers.LSTM(64, return_sequences=True))\n",
        "model4.add(layers.LSTM(64))\n",
        "\n",
        "# The output unit must have 'sigmoid' activation since this is a binary classification\n",
        "model4.add(layers.Dense(1, activation='sigmoid'))"
      ]
    },
    {
      "cell_type": "code",
      "execution_count": null,
      "metadata": {
        "id": "o9QXHW0mpQ4p"
      },
      "outputs": [],
      "source": [
        "model4.compile(loss='binary_crossentropy', optimizer='rmsprop',  metrics=['accuracy'])"
      ]
    },
    {
      "cell_type": "code",
      "execution_count": null,
      "metadata": {
        "colab": {
          "base_uri": "https://localhost:8080/",
          "height": 744
        },
        "id": "_QePmpQqpTj7",
        "outputId": "3d98d33c-2f4c-4cd3-fb41-ebc34f8931eb"
      },
      "outputs": [
        {
          "name": "stdout",
          "output_type": "stream",
          "text": [
            "Epoch 1/20\n",
            "30/30 [==============================] - 50s 2s/step - loss: 0.6027 - accuracy: 0.6589 - val_loss: 0.4530 - val_accuracy: 0.7898\n",
            "Epoch 2/20\n",
            "30/30 [==============================] - 50s 2s/step - loss: 0.3890 - accuracy: 0.8301 - val_loss: 0.3839 - val_accuracy: 0.8276\n",
            "Epoch 3/20\n",
            "30/30 [==============================] - 50s 2s/step - loss: 0.3032 - accuracy: 0.8749 - val_loss: 0.3611 - val_accuracy: 0.8388\n",
            "Epoch 4/20\n",
            "30/30 [==============================] - 50s 2s/step - loss: 0.2728 - accuracy: 0.8925 - val_loss: 0.3840 - val_accuracy: 0.8406\n",
            "Epoch 5/20\n",
            "30/30 [==============================] - 50s 2s/step - loss: 0.2117 - accuracy: 0.9188 - val_loss: 0.4879 - val_accuracy: 0.8105\n",
            "Epoch 6/20\n",
            "30/30 [==============================] - 50s 2s/step - loss: 0.1819 - accuracy: 0.9299 - val_loss: 0.4701 - val_accuracy: 0.8220\n",
            "Epoch 7/20\n",
            "30/30 [==============================] - 50s 2s/step - loss: 0.1504 - accuracy: 0.9439 - val_loss: 0.4478 - val_accuracy: 0.8356\n",
            "Epoch 8/20\n",
            "30/30 [==============================] - 50s 2s/step - loss: 0.1165 - accuracy: 0.9585 - val_loss: 0.4853 - val_accuracy: 0.8311\n",
            "Epoch 9/20\n",
            "30/30 [==============================] - 50s 2s/step - loss: 0.0978 - accuracy: 0.9660 - val_loss: 0.5703 - val_accuracy: 0.7923\n",
            "Epoch 10/20\n",
            "30/30 [==============================] - 50s 2s/step - loss: 0.0738 - accuracy: 0.9741 - val_loss: 0.5541 - val_accuracy: 0.8261\n",
            "Epoch 11/20\n",
            "30/30 [==============================] - 50s 2s/step - loss: 0.0570 - accuracy: 0.9807 - val_loss: 0.7099 - val_accuracy: 0.8178\n",
            "Epoch 12/20\n",
            "30/30 [==============================] - 53s 2s/step - loss: 0.0597 - accuracy: 0.9789 - val_loss: 0.6264 - val_accuracy: 0.8103\n",
            "Epoch 13/20\n",
            "30/30 [==============================] - 48s 2s/step - loss: 0.0415 - accuracy: 0.9872 - val_loss: 0.6458 - val_accuracy: 0.8001\n",
            "Epoch 14/20\n",
            "30/30 [==============================] - 48s 2s/step - loss: 0.0694 - accuracy: 0.9780 - val_loss: 0.6834 - val_accuracy: 0.8162\n",
            "Epoch 15/20\n",
            "30/30 [==============================] - 49s 2s/step - loss: 0.0078 - accuracy: 0.9990 - val_loss: 0.9541 - val_accuracy: 0.8018\n",
            "Epoch 16/20\n",
            "30/30 [==============================] - 49s 2s/step - loss: 0.1020 - accuracy: 0.9775 - val_loss: 0.7552 - val_accuracy: 0.8167\n",
            "Epoch 17/20\n",
            "30/30 [==============================] - 49s 2s/step - loss: 0.0051 - accuracy: 0.9997 - val_loss: 0.9355 - val_accuracy: 0.8123\n",
            "Epoch 18/20\n",
            "30/30 [==============================] - 48s 2s/step - loss: 0.0028 - accuracy: 0.9997 - val_loss: 1.0805 - val_accuracy: 0.8107\n",
            "Epoch 19/20\n",
            "30/30 [==============================] - 48s 2s/step - loss: 0.0803 - accuracy: 0.9865 - val_loss: 0.9568 - val_accuracy: 0.8133\n",
            "Epoch 20/20\n",
            "30/30 [==============================] - 48s 2s/step - loss: 0.0017 - accuracy: 0.9999 - val_loss: 1.1380 - val_accuracy: 0.8121\n"
          ]
        }
      ],
      "source": [
        "model4_history = model4.fit(partial_x_train,\n",
        "                            partial_y_train,\n",
        "                            epochs=20,\n",
        "                            batch_size=512,\n",
        "                            validation_data=(x_val, y_val))"
      ]
    },
    {
      "cell_type": "code",
      "execution_count": null,
      "metadata": {
        "colab": {
          "base_uri": "https://localhost:8080/",
          "height": 303
        },
        "id": "N-b6zyVbpXJn",
        "outputId": "28109334-db3e-4215-82bc-44ceb2a94a8d"
      },
      "outputs": [
        {
          "data": {
            "text/plain": [
              "<matplotlib.legend.Legend at 0x7fc7f4b3fe80>"
            ]
          },
          "execution_count": 26,
          "metadata": {
            "tags": []
          },
          "output_type": "execute_result"
        },
        {
          "data": {
            "image/png": "[encoded data removed]",
            "text/plain": [
              "<Figure size 432x288 with 1 Axes>"
            ]
          },
          "metadata": {
            "tags": []
          },
          "output_type": "display_data"
        }
      ],
      "source": [
        "import matplotlib.pyplot as plt\n",
        "import seaborn as sns\n",
        "sns.set()\n",
        "\n",
        "train_acc4  = model4_history.history['accuracy']\n",
        "train_loss4 = model4_history.history['loss']\n",
        "val_acc4  = model4_history.history['val_accuracy']\n",
        "val_loss4 = model4_history.history['val_loss']\n",
        "\n",
        "epochs = range(1, len(train_acc4) + 1)\n",
        "\n",
        "plt.plot(epochs, train_loss4, label = 'Training Loss')\n",
        "plt.plot(epochs, val_loss4, label = 'Validation Loss')\n",
        "plt.xlabel('Epochs')\n",
        "plt.ylabel('Loss')\n",
        "plt.legend()"
      ]
    },
    {
      "cell_type": "code",
      "execution_count": null,
      "metadata": {
        "colab": {
          "base_uri": "https://localhost:8080/",
          "height": 303
        },
        "id": "tNKHGFeipXqV",
        "outputId": "d52e4f5f-7c5f-41f5-c480-6a8f4b001b4d"
      },
      "outputs": [
        {
          "data": {
            "text/plain": [
              "<matplotlib.legend.Legend at 0x7fc7f4ab0c88>"
            ]
          },
          "execution_count": 27,
          "metadata": {
            "tags": []
          },
          "output_type": "execute_result"
        },
        {
          "data": {
            "image/png": "[encoded data removed]",
            "text/plain": [
              "<Figure size 432x288 with 1 Axes>"
            ]
          },
          "metadata": {
            "tags": []
          },
          "output_type": "display_data"
        }
      ],
      "source": [
        "plt.plot(epochs, train_acc4, label = 'Training Accuracy')\n",
        "plt.plot(epochs, val_acc4, label = 'Validation Accuracy')\n",
        "plt.xlabel('Epochs')\n",
        "plt.ylabel('Accuracy')\n",
        "plt.legend()"
      ]
    },
    {
      "cell_type": "code",
      "execution_count": null,
      "metadata": {
        "colab": {
          "base_uri": "https://localhost:8080/",
          "height": 53
        },
        "id": "eKvapLNxqxjf",
        "outputId": "9e65f049-2e56-48a8-deb8-740d902d4335"
      },
      "outputs": [
        {
          "name": "stdout",
          "output_type": "stream",
          "text": [
            "782/782 [==============================] - 31s 40ms/step - loss: 1.1879 - accuracy: 0.8022\n"
          ]
        },
        {
          "data": {
            "text/plain": [
              "[1.1879034042358398, 0.8021600246429443]"
            ]
          },
          "execution_count": 28,
          "metadata": {
            "tags": []
          },
          "output_type": "execute_result"
        }
      ],
      "source": [
        "# Evaluate the model on the test set\n",
        "model4.evaluate(x_test, y_test)"
      ]
    },
    {
      "cell_type": "markdown",
      "metadata": {
        "id": "VtBZBUUP_slY"
      },
      "source": [
        "The model with 3 LSTM layers achieves 80.2% accuracy on the test data."
      ]
    },
    {
      "cell_type": "markdown",
      "metadata": {
        "id": "K_vH7w8Ll_9j"
      },
      "source": [
        "## Recurrent Dropout"
      ]
    },
    {
      "cell_type": "markdown",
      "metadata": {
        "id": "7mDx7Guyv2hH"
      },
      "source": [
        "It is evident from our training and validation curves that our model is overfitting: the training and validation losses start diverging\n",
        "considerably after a few epochs. You are already familiar with a classic technique for fighting this phenomenon: dropout, consisting in\n",
        "randomly zeroing-out input units of a layer in order to break happenstance correlations in the training data that the layer is exposed to.\n",
        "How to correctly apply dropout in recurrent networks, however, is not a trivial question. It has long been known that applying dropout\n",
        "before a recurrent layer hinders learning rather than helping with regularization. In 2015, Yarin Gal, as part of his [Ph.D. thesis](http://mlg.eng.cam.ac.uk/yarin/thesis/thesis.pdf) on\n",
        "Bayesian deep learning, determined the proper way to use dropout with a recurrent network: the same dropout mask (the same pattern of\n",
        "dropped units) should be applied at every timestep, instead of a dropout mask that would vary randomly from timestep to timestep. What's\n",
        "more: in order to regularize the representations formed by the recurrent gates of layers such as LSTM, a temporally constant\n",
        "dropout mask should be applied to the inner recurrent activations of the layer (a \"recurrent\" dropout mask). Using the same dropout mask at\n",
        "every timestep allows the network to properly propagate its learning error through time; a temporally random dropout mask would instead\n",
        "disrupt this error signal and be harmful to the learning process.\n",
        "\n",
        "Yarin Gal did his research using Keras and helped build this mechanism directly into Keras recurrent layers. Every recurrent layer in Keras\n",
        "has two dropout-related arguments: `dropout`, a float specifying the dropout rate for input units of the layer, and `recurrent_dropout`,\n",
        "specifying the dropout rate of the recurrent units. Let's add dropout and recurrent dropout to our LSTM layer and see how it impacts\n",
        "overfitting."
      ]
    },
    {
      "cell_type": "code",
      "execution_count": null,
      "metadata": {
        "colab": {
          "base_uri": "https://localhost:8080/"
        },
        "id": "yyBW7utlmAUX",
        "outputId": "dcc33e7d-9804-4c67-abc4-4bc3674c2ff4"
      },
      "outputs": [
        {
          "name": "stderr",
          "output_type": "stream",
          "text": [
            "WARNING:tensorflow:Layer lstm_5 will not use cuDNN kernels since it doesn't meet the criteria. It will use a generic GPU kernel as fallback when running on GPU.\n"
          ]
        }
      ],
      "source": [
        "model5 = models.Sequential()\n",
        "\n",
        "model5.add(layers.Embedding(input_dim=10000, output_dim=128, input_length=100))\n",
        "\n",
        "model5.add(layers.LSTM(64, dropout=0.5, recurrent_dropout=0.5))\n",
        "\n",
        "model5.add(layers.Dense(1, activation='sigmoid'))"
      ]
    },
    {
      "cell_type": "code",
      "execution_count": null,
      "metadata": {
        "id": "Y-u5oxqhmwTq"
      },
      "outputs": [],
      "source": [
        "model5.compile(loss='binary_crossentropy', optimizer='rmsprop',  metrics=['accuracy'])"
      ]
    },
    {
      "cell_type": "markdown",
      "metadata": {
        "id": "ssoFGnQk1wRH"
      },
      "source": [
        "Below, I am implementing early stopping as well by terminating the training process after 5 epochs."
      ]
    },
    {
      "cell_type": "code",
      "execution_count": null,
      "metadata": {
        "colab": {
          "base_uri": "https://localhost:8080/"
        },
        "id": "gEyqcKSLm0eh",
        "outputId": "1ec40969-9cfb-4146-9577-22606ee6c349"
      },
      "outputs": [
        {
          "name": "stdout",
          "output_type": "stream",
          "text": [
            "Epoch 1/5\n",
            "30/30 [==============================] - 25s 710ms/step - loss: 0.6129 - accuracy: 0.6803 - val_loss: 0.4457 - val_accuracy: 0.8129\n",
            "Epoch 2/5\n",
            "30/30 [==============================] - 21s 690ms/step - loss: 0.4192 - accuracy: 0.8252 - val_loss: 0.3605 - val_accuracy: 0.8409\n",
            "Epoch 3/5\n",
            "30/30 [==============================] - 20s 675ms/step - loss: 0.3390 - accuracy: 0.8627 - val_loss: 0.3589 - val_accuracy: 0.8420\n",
            "Epoch 4/5\n",
            "30/30 [==============================] - 20s 682ms/step - loss: 0.2896 - accuracy: 0.8862 - val_loss: 0.4779 - val_accuracy: 0.8309\n",
            "Epoch 5/5\n",
            "30/30 [==============================] - 21s 706ms/step - loss: 0.2627 - accuracy: 0.9004 - val_loss: 0.3464 - val_accuracy: 0.8505\n"
          ]
        }
      ],
      "source": [
        "model5_history = model5.fit(partial_x_train,\n",
        "                            partial_y_train,\n",
        "                            epochs=5,\n",
        "                            batch_size=512,\n",
        "                            validation_data=(x_val, y_val))"
      ]
    },
    {
      "cell_type": "markdown",
      "metadata": {
        "id": "LqyKvhyg2fM-"
      },
      "source": [
        "Now, let's evaluate our model on the test data."
      ]
    },
    {
      "cell_type": "code",
      "execution_count": null,
      "metadata": {
        "colab": {
          "base_uri": "https://localhost:8080/"
        },
        "id": "ZNfhVPX2nLGQ",
        "outputId": "5df93583-53c1-483f-84d6-7fdb1f0d173d"
      },
      "outputs": [
        {
          "name": "stdout",
          "output_type": "stream",
          "text": [
            "782/782 [==============================] - 29s 37ms/step - loss: 0.3652 - accuracy: 0.8408\n"
          ]
        },
        {
          "data": {
            "text/plain": [
              "[0.36516809463500977, 0.8407599925994873]"
            ]
          },
          "execution_count": 51,
          "metadata": {},
          "output_type": "execute_result"
        }
      ],
      "source": [
        "# Evaluate the model on the test set\n",
        "model5.evaluate(x_test, y_test)"
      ]
    },
    {
      "cell_type": "markdown",
      "metadata": {
        "id": "83YE5VR11_iu"
      },
      "source": [
        "We see that using recurrent dropout and early stopping, we achieved 84% accuracy on the test dataset."
      ]
    }
  ],
  "metadata": {
    "accelerator": "GPU",
    "colab": {
      "provenance": []
    },
    "kernelspec": {
      "display_name": "Python 3",
      "language": "python",
      "name": "python3"
    },
    "language_info": {
      "codemirror_mode": {
        "name": "ipython",
        "version": 3
      },
      "file_extension": ".py",
      "mimetype": "text/x-python",
      "name": "python",
      "nbconvert_exporter": "python",
      "pygments_lexer": "ipython3",
      "version": "3.5.2"
    }
  },
  "nbformat": 4,
  "nbformat_minor": 0
}
