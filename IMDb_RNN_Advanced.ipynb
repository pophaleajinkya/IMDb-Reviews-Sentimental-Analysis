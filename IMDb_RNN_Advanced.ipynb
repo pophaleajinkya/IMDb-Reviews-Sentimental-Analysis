{
  "cells": [
    {
      "cell_type": "markdown",
      "metadata": {
        "id": "L8BWYUlYd1LM"
      },
      "source": [
        "\n",
        "## Sentiment Analysis using Bidirectional RNNs, 1D CNNs, and Language Models"
      ]
    },
    {
      "cell_type": "markdown",
      "metadata": {
        "id": "UBUiw7R3M2tS"
      },
      "source": [
        "In this notebook, we will continue working on our IMDb example, but this time we will develop three new models: a bidirectional recurrent model, a 1D convolutional model, and a model that combines both. Lastly, we develop a RNN model in which we use the pre-trained GloVe language model instead of learning embedding vectors from our own dataset."
      ]
    },
    {
      "cell_type": "markdown",
      "metadata": {
        "id": "Sn-yKNa4FmXs"
      },
      "source": [
        "## Using bidirectional RNNs\n",
        "\n",
        "A bidirectional RNN is common RNN variant which can offer higher performance than a regular RNN on certain tasks. It is frequently used in natural language processing (NLP).\n",
        "\n",
        "RNNs are notably order-dependent, or time-dependent: they process the timesteps of their input sequences in order, and shuffling or\n",
        "reversing the timesteps can completely change the representations that the RNN will extract from the sequence. This is precisely the reason\n",
        "why they perform well on problems where order is meaningful, such as the IMDb sentiment analysis example or the temperature forecasting problem. A bidirectional RNN exploits the order-sensitivity of RNNs: it simply consists of two regular RNNs, such as the LSTM layers that you are already familiar with,\n",
        "each processing input sequence in one direction (chronologically and antichronologically), then merging their representations. By\n",
        "processing a sequence both way, a bidirectional RNN is able to catch patterns that may have been overlooked by a one-direction RNN.\n",
        "\n",
        "Importantly, a RNN trained on reversed sequences will learn different representations than one trained on the original sequences, in much the same way that you would\n",
        "have quite different mental models if time flowed backwards in the real world -- if you lived a life where you died on your first day and you were born on your last day. In machine learning, representations that are *different* yet *useful* are always worth exploiting, and the more they differ the better: they offer a new angle from which to look at your data, capturing aspects of the data that were missed by other\n",
        "approaches, and thus they can allow to boost performance on a task. This is the intuition behind *ensembling*, a concept that we will cover later in the course (e.g., a random forest model is a collection or ensemble of decision trees).\n",
        "\n",
        "A bidirectional RNN exploits this idea to improve upon the performance of chronological-order RNNs: it looks at its inputs sequence both ways, obtaining potentially richer representations and capturing patterns that may have been missed by the chronological-order version alone.\n",
        "\n",
        "Let's try this idea on our IMDb example."
      ]
    },
    {
      "cell_type": "markdown",
      "metadata": {
        "id": "eoqKwNg3arvE"
      },
      "source": [
        "## Loading the data\n",
        "\n",
        "Let's start by preparing the data. We will restrict the movie reviews to the top 10,000 most common words (like we did before), and cut the reviews after 100 words, or pad them to length 100, using the `pad_sequences` function below.\n"
      ]
    },
    {
      "cell_type": "code",
      "execution_count": null,
      "metadata": {
        "colab": {
          "base_uri": "https://localhost:8080/"
        },
        "id": "CHIYQpP1KI9o",
        "outputId": "ff4d0f93-bfb7-43ca-8d3a-238eeba85adb"
      },
      "outputs": [
        {
          "name": "stdout",
          "output_type": "stream",
          "text": [
            "Downloading data from https://storage.googleapis.com/tensorflow/tf-keras-datasets/imdb.npz\n",
            "17465344/17464789 [==============================] - 0s 0us/step\n",
            "17473536/17464789 [==============================] - 0s 0us/step\n"
          ]
        }
      ],
      "source": [
        "from tensorflow.keras.datasets import imdb\n",
        "from tensorflow.keras import preprocessing\n",
        "\n",
        "# Load the data as lists of integers\n",
        "# We only keep the top 10,000 most frequently occurring words in the training data\n",
        "# (Rare words will be discarded as before)\n",
        "(x_train, y_train), (x_test, y_test) = imdb.load_data(num_words=10000)\n",
        "\n",
        "# Recall that our movie reviews have different lengths.\n",
        "# The following turns our lists of integers into a 2D integer tensor of shape `(samples, maxlen=100)`\n",
        "# In other words, for reviews shorter than 100 words, we add zeros to make the length=100;\n",
        "# for reviews longer than 100 words, we cut them after 100 words. (100 is arbitrary!)\n",
        "x_train = preprocessing.sequence.pad_sequences(x_train, maxlen=100)\n",
        "x_test = preprocessing.sequence.pad_sequences(x_test, maxlen=100)"
      ]
    },
    {
      "cell_type": "code",
      "execution_count": null,
      "metadata": {
        "colab": {
          "base_uri": "https://localhost:8080/"
        },
        "id": "rskLN7S1FDKQ",
        "outputId": "ca541130-9854-4abf-84ed-9bed0d201bce"
      },
      "outputs": [
        {
          "data": {
            "text/plain": [
              "(25000, 100)"
            ]
          },
          "execution_count": 2,
          "metadata": {},
          "output_type": "execute_result"
        }
      ],
      "source": [
        "x_train.shape"
      ]
    },
    {
      "cell_type": "code",
      "execution_count": null,
      "metadata": {
        "colab": {
          "base_uri": "https://localhost:8080/"
        },
        "id": "SWV89f9pFGqt",
        "outputId": "9702a032-2c0b-4f43-d05a-8e1741ff18cd"
      },
      "outputs": [
        {
          "data": {
            "text/plain": [
              "(25000, 100)"
            ]
          },
          "execution_count": 3,
          "metadata": {},
          "output_type": "execute_result"
        }
      ],
      "source": [
        "x_test.shape"
      ]
    },
    {
      "cell_type": "markdown",
      "metadata": {
        "id": "FV1zrXbgw618"
      },
      "source": [
        "In order to monitor during training the accuracy of the model on data that it has never seen before, we will create a \"validation set\" by setting apart 10,000 samples from the original training data:"
      ]
    },
    {
      "cell_type": "code",
      "execution_count": null,
      "metadata": {
        "id": "-gLMkLrzw7W4"
      },
      "outputs": [],
      "source": [
        "from sklearn.utils import shuffle\n",
        "x_train, y_train = shuffle(x_train, y_train)\n",
        "\n",
        "x_val = x_train[:10000]\n",
        "partial_x_train = x_train[10000:]\n",
        "\n",
        "y_val = y_train[:10000]\n",
        "partial_y_train = y_train[10000:]"
      ]
    },
    {
      "cell_type": "markdown",
      "metadata": {
        "id": "4i-C2kHIAXYW"
      },
      "source": [
        "## A BLSTM model\n",
        "\n",
        "We are now ready to develop a bidirectional recurrent model. We will use a Bidirectional Long Short-Term Memory (BLSTM) layer here.\n",
        "\n",
        "To instantiate a bidirectional RNN in Keras, one would use the `Bidirectional` layer, which takes as first argument a recurrent layer instance. `Bidirectional` will create a second, separate instance of this recurrent layer, and will use one instance for processing the input sequences in chronological order and the other instance for processing the input sequences in reversed order."
      ]
    },
    {
      "cell_type": "code",
      "execution_count": null,
      "metadata": {
        "id": "DBq5igWsIgNp"
      },
      "outputs": [],
      "source": [
        "from tensorflow.keras import models\n",
        "from tensorflow.keras import layers"
      ]
    },
    {
      "cell_type": "code",
      "execution_count": null,
      "metadata": {
        "id": "-LSevieUAWxS"
      },
      "outputs": [],
      "source": [
        "model1 = models.Sequential()\n",
        "\n",
        "model1.add(layers.Embedding(10000, 128, input_length=100))\n",
        "\n",
        "model1.add(layers.Bidirectional(layers.LSTM(64)))\n",
        "\n",
        "model1.add(layers.Dense(1, activation='sigmoid'))"
      ]
    },
    {
      "cell_type": "code",
      "execution_count": null,
      "metadata": {
        "id": "WuZog9I7Al97"
      },
      "outputs": [],
      "source": [
        "model1.compile(loss='binary_crossentropy', optimizer='rmsprop',  metrics=['accuracy'])"
      ]
    },
    {
      "cell_type": "code",
      "execution_count": null,
      "metadata": {
        "colab": {
          "base_uri": "https://localhost:8080/",
          "height": 744
        },
        "id": "kYQtzIfWAr8K",
        "outputId": "917ff6fc-8901-4c47-fbba-081eb04ab6bf"
      },
      "outputs": [
        {
          "name": "stdout",
          "output_type": "stream",
          "text": [
            "Epoch 1/20\n",
            "30/30 [==============================] - 2s 70ms/step - loss: 0.6221 - accuracy: 0.6761 - val_loss: 0.4183 - val_accuracy: 0.8110\n",
            "Epoch 2/20\n",
            "30/30 [==============================] - 1s 44ms/step - loss: 0.3757 - accuracy: 0.8426 - val_loss: 0.3662 - val_accuracy: 0.8445\n",
            "Epoch 3/20\n",
            "30/30 [==============================] - 1s 44ms/step - loss: 0.3095 - accuracy: 0.8755 - val_loss: 0.3525 - val_accuracy: 0.8469\n",
            "Epoch 4/20\n",
            "30/30 [==============================] - 1s 44ms/step - loss: 0.2521 - accuracy: 0.9049 - val_loss: 0.3884 - val_accuracy: 0.8276\n",
            "Epoch 5/20\n",
            "30/30 [==============================] - 1s 44ms/step - loss: 0.2147 - accuracy: 0.9195 - val_loss: 0.4020 - val_accuracy: 0.8450\n",
            "Epoch 6/20\n",
            "30/30 [==============================] - 1s 44ms/step - loss: 0.2040 - accuracy: 0.9239 - val_loss: 0.3832 - val_accuracy: 0.8419\n",
            "Epoch 7/20\n",
            "30/30 [==============================] - 1s 44ms/step - loss: 0.1874 - accuracy: 0.9323 - val_loss: 0.4194 - val_accuracy: 0.8474\n",
            "Epoch 8/20\n",
            "30/30 [==============================] - 1s 45ms/step - loss: 0.1498 - accuracy: 0.9467 - val_loss: 0.4710 - val_accuracy: 0.8336\n",
            "Epoch 9/20\n",
            "30/30 [==============================] - 1s 44ms/step - loss: 0.1504 - accuracy: 0.9467 - val_loss: 0.4788 - val_accuracy: 0.8225\n",
            "Epoch 10/20\n",
            "30/30 [==============================] - 1s 44ms/step - loss: 0.1269 - accuracy: 0.9569 - val_loss: 0.5081 - val_accuracy: 0.8197\n",
            "Epoch 11/20\n",
            "30/30 [==============================] - 1s 44ms/step - loss: 0.1155 - accuracy: 0.9585 - val_loss: 0.5265 - val_accuracy: 0.8364\n",
            "Epoch 12/20\n",
            "30/30 [==============================] - 1s 44ms/step - loss: 0.1117 - accuracy: 0.9614 - val_loss: 0.4728 - val_accuracy: 0.8343\n",
            "Epoch 13/20\n",
            "30/30 [==============================] - 1s 44ms/step - loss: 0.1036 - accuracy: 0.9651 - val_loss: 0.4970 - val_accuracy: 0.8376\n",
            "Epoch 14/20\n",
            "30/30 [==============================] - 1s 43ms/step - loss: 0.0904 - accuracy: 0.9709 - val_loss: 0.4851 - val_accuracy: 0.8112\n",
            "Epoch 15/20\n",
            "30/30 [==============================] - 1s 44ms/step - loss: 0.0732 - accuracy: 0.9784 - val_loss: 0.5519 - val_accuracy: 0.8352\n",
            "Epoch 16/20\n",
            "30/30 [==============================] - 1s 44ms/step - loss: 0.0715 - accuracy: 0.9777 - val_loss: 0.6924 - val_accuracy: 0.7811\n",
            "Epoch 17/20\n",
            "30/30 [==============================] - 1s 44ms/step - loss: 0.0720 - accuracy: 0.9790 - val_loss: 0.5974 - val_accuracy: 0.8280\n",
            "Epoch 18/20\n",
            "30/30 [==============================] - 1s 45ms/step - loss: 0.0547 - accuracy: 0.9824 - val_loss: 0.6484 - val_accuracy: 0.8329\n",
            "Epoch 19/20\n",
            "30/30 [==============================] - 1s 46ms/step - loss: 0.0652 - accuracy: 0.9827 - val_loss: 0.6819 - val_accuracy: 0.8259\n",
            "Epoch 20/20\n",
            "30/30 [==============================] - 1s 46ms/step - loss: 0.0600 - accuracy: 0.9805 - val_loss: 0.6234 - val_accuracy: 0.8288\n"
          ]
        }
      ],
      "source": [
        "model1_history = model1.fit(partial_x_train,\n",
        "                            partial_y_train,\n",
        "                            epochs=20,\n",
        "                            batch_size=512,\n",
        "                            validation_data=(x_val, y_val))"
      ]
    },
    {
      "cell_type": "code",
      "execution_count": null,
      "metadata": {
        "colab": {
          "base_uri": "https://localhost:8080/",
          "height": 360
        },
        "id": "Y1vYJAz_Ki0s",
        "outputId": "6bf727fe-c4fd-4398-aadd-9b9d30774b3a"
      },
      "outputs": [
        {
          "name": "stderr",
          "output_type": "stream",
          "text": [
            "/usr/local/lib/python3.6/dist-packages/statsmodels/tools/_testing.py:19: FutureWarning: pandas.util.testing is deprecated. Use the functions in the public API at pandas.testing instead.\n",
            "  import pandas.util.testing as tm\n"
          ]
        },
        {
          "data": {
            "text/plain": [
              "<matplotlib.legend.Legend at 0x7f605172d080>"
            ]
          },
          "execution_count": 9,
          "metadata": {
            "tags": []
          },
          "output_type": "execute_result"
        },
        {
          "data": {
            "image/png": "[encoded data removed]",
            "text/plain": [
              "<Figure size 432x288 with 1 Axes>"
            ]
          },
          "metadata": {
            "tags": []
          },
          "output_type": "display_data"
        }
      ],
      "source": [
        "import matplotlib.pyplot as plt\n",
        "import seaborn as sns\n",
        "sns.set()\n",
        "\n",
        "train_acc1  = model1_history.history['accuracy']\n",
        "train_loss1 = model1_history.history['loss']\n",
        "val_acc1  = model1_history.history['val_accuracy']\n",
        "val_loss1 = model1_history.history['val_loss']\n",
        "\n",
        "epochs = range(1, len(train_acc1) + 1)\n",
        "\n",
        "plt.plot(epochs, train_loss1, label = 'Training Loss')\n",
        "plt.plot(epochs, val_loss1, label = 'Validation Loss')\n",
        "plt.xlabel('Epochs')\n",
        "plt.ylabel('Loss')\n",
        "plt.legend()"
      ]
    },
    {
      "cell_type": "code",
      "execution_count": null,
      "metadata": {
        "colab": {
          "base_uri": "https://localhost:8080/",
          "height": 303
        },
        "id": "6B0ly2_dKpP7",
        "outputId": "1c3c28e1-f193-4682-d5c1-1f08c2397dd7"
      },
      "outputs": [
        {
          "data": {
            "text/plain": [
              "<matplotlib.legend.Legend at 0x7f6051651f28>"
            ]
          },
          "execution_count": 10,
          "metadata": {
            "tags": []
          },
          "output_type": "execute_result"
        },
        {
          "data": {
            "image/png": "[encoded data removed]",
            "text/plain": [
              "<Figure size 432x288 with 1 Axes>"
            ]
          },
          "metadata": {
            "tags": []
          },
          "output_type": "display_data"
        }
      ],
      "source": [
        "plt.plot(epochs, train_acc1, label = 'Training Accuracy')\n",
        "plt.plot(epochs, val_acc1, label = 'Validation Accuracy')\n",
        "plt.xlabel('Epochs')\n",
        "plt.ylabel('Accuracy')\n",
        "plt.legend()"
      ]
    },
    {
      "cell_type": "code",
      "execution_count": null,
      "metadata": {
        "colab": {
          "base_uri": "https://localhost:8080/",
          "height": 53
        },
        "id": "lxwnpRLEqvC7",
        "outputId": "73e8c1bd-dd50-4398-cc21-854d96e725a7"
      },
      "outputs": [
        {
          "name": "stdout",
          "output_type": "stream",
          "text": [
            "782/782 [==============================] - 6s 7ms/step - loss: 0.6863 - accuracy: 0.8198\n"
          ]
        },
        {
          "data": {
            "text/plain": [
              "[0.6862687468528748, 0.8198000192642212]"
            ]
          },
          "execution_count": 11,
          "metadata": {
            "tags": []
          },
          "output_type": "execute_result"
        }
      ],
      "source": [
        "# Evaluate the model on the test set\n",
        "model1.evaluate(x_test, y_test)"
      ]
    },
    {
      "cell_type": "markdown",
      "metadata": {
        "id": "lRGvBdtjKJOw"
      },
      "source": [
        "Using the bidirectional LSTM layer, we achived an accuracy of almost 82%. By using recurrent dropout, we can fight overfitting and improve the model generalization.  "
      ]
    },
    {
      "cell_type": "markdown",
      "metadata": {
        "id": "MADd7TCSr2KT"
      },
      "source": [
        "## Sequence processing with convnets: Implementing a 1D convnet\n",
        "\n",
        "In Keras, you would use a 1D convnet via the `Conv1D` layer, which has a very similar interface to `Conv2D`. It takes as input 3D tensors\n",
        "with shape `(samples, time, features)` and also returns similarly-shaped 3D tensors. The convolution window is a 1D window on the temporal\n",
        "axis (axis 1) in the input tensor."
      ]
    },
    {
      "cell_type": "markdown",
      "metadata": {
        "id": "Q6TIxHxNrgsa"
      },
      "source": [
        "1D convnets consist of a stack of `Conv1D`\n",
        "and `MaxPooling1D` layers, eventually ending in either a global pooling layer or a `Flatten` layer, turning the 3D outputs into 2D outputs (one vector of numbers for each sample), allowing to add one or more `Dense` layers to the model, for classification or regression.\n",
        "\n",
        "One difference, though, is the fact that we can afford to use larger convolution windows with 1D convnets. Indeed, with a 2D convolution layer, a 3x3 convolution window contains 3*3 = 9 feature vectors, but with a 1D convolution layer, a convolution window of size 3 would\n",
        "only contain 3 feature vectors. We can thus easily afford 1D convolution windows of size 7 or 9.\n",
        "\n",
        "Let's build a simple 2-layer 1D convnet and apply it to the IMDb sentiment classification task that you are already familiar with.\n"
      ]
    },
    {
      "cell_type": "code",
      "execution_count": null,
      "metadata": {
        "id": "_gtSjDIashKy"
      },
      "outputs": [],
      "source": [
        "model2 = models.Sequential()\n",
        "model2.add(layers.Embedding(10000, 128, input_length=100))\n",
        "\n",
        "model2.add(layers.Conv1D(128, 7, activation='relu'))\n",
        "model2.add(layers.MaxPooling1D(5))\n",
        "\n",
        "model2.add(layers.Conv1D(128, 7, activation='relu'))\n",
        "model2.add(layers.GlobalMaxPooling1D())\n",
        "\n",
        "model2.add(layers.Dense(1, activation='sigmoid'))"
      ]
    },
    {
      "cell_type": "markdown",
      "metadata": {
        "id": "Ys8DyDzts9i0"
      },
      "source": [
        "In the above, we have 128 filters of size 7 in each convolutional layer, and we use the ReLU activation function. To read about other optional parameters in a Conv1D layer, please refer to the Keras [website](https://keras.io/api/layers/convolution_layers/convolution1d)."
      ]
    },
    {
      "cell_type": "code",
      "execution_count": null,
      "metadata": {
        "colab": {
          "base_uri": "https://localhost:8080/",
          "height": 380
        },
        "id": "5Zo4Vc95XoLR",
        "outputId": "f03eb005-791c-4281-ba72-6f1443ea8cdf"
      },
      "outputs": [
        {
          "name": "stdout",
          "output_type": "stream",
          "text": [
            "Model: \"sequential_1\"\n",
            "_________________________________________________________________\n",
            "Layer (type)                 Output Shape              Param #   \n",
            "=================================================================\n",
            "embedding_1 (Embedding)      (None, 100, 128)          1280000   \n",
            "_________________________________________________________________\n",
            "conv1d (Conv1D)              (None, 94, 128)           114816    \n",
            "_________________________________________________________________\n",
            "max_pooling1d (MaxPooling1D) (None, 18, 128)           0         \n",
            "_________________________________________________________________\n",
            "conv1d_1 (Conv1D)            (None, 12, 128)           114816    \n",
            "_________________________________________________________________\n",
            "global_max_pooling1d (Global (None, 128)               0         \n",
            "_________________________________________________________________\n",
            "dense_1 (Dense)              (None, 1)                 129       \n",
            "=================================================================\n",
            "Total params: 1,509,761\n",
            "Trainable params: 1,509,761\n",
            "Non-trainable params: 0\n",
            "_________________________________________________________________\n"
          ]
        }
      ],
      "source": [
        "model2.summary()"
      ]
    },
    {
      "cell_type": "markdown",
      "metadata": {
        "id": "bDh6finUY1B-"
      },
      "source": [
        "**Q)** Can you tell why we have 114816 parameters in the first Conv1D layer?\n",
        "\n",
        "**A)** Note that each input sequence (review) has size 100 * 128 after embedding into a 128-dimensional space. Therefore, each filter has 7 * 128 weights and one bias. We have 128 filters. Therefore, we have 128 * (7 * 128 + 1) =  114816 learnable parameters."
      ]
    },
    {
      "cell_type": "code",
      "execution_count": null,
      "metadata": {
        "id": "LaMNQ7AdwUdB"
      },
      "outputs": [],
      "source": [
        "model2.compile(loss='binary_crossentropy', optimizer='rmsprop',  metrics=['accuracy'])"
      ]
    },
    {
      "cell_type": "code",
      "execution_count": null,
      "metadata": {
        "colab": {
          "base_uri": "https://localhost:8080/",
          "height": 764
        },
        "id": "PbMr5DFewXrx",
        "outputId": "d35d6d8d-2009-4fcd-849a-5dbe2f5508bc"
      },
      "outputs": [
        {
          "name": "stdout",
          "output_type": "stream",
          "text": [
            "Epoch 1/20\n",
            "30/30 [==============================] - 1s 43ms/step - loss: 0.6439 - accuracy: 0.6077 - val_loss: 0.5324 - val_accuracy: 0.7301\n",
            "Epoch 2/20\n",
            "30/30 [==============================] - 1s 38ms/step - loss: 0.4142 - accuracy: 0.8131 - val_loss: 0.4070 - val_accuracy: 0.8141\n",
            "Epoch 3/20\n",
            "30/30 [==============================] - 1s 37ms/step - loss: 0.3067 - accuracy: 0.8723 - val_loss: 0.4037 - val_accuracy: 0.8176\n",
            "Epoch 4/20\n",
            "30/30 [==============================] - 1s 38ms/step - loss: 0.2435 - accuracy: 0.9005 - val_loss: 0.4872 - val_accuracy: 0.8003\n",
            "Epoch 5/20\n",
            "30/30 [==============================] - 1s 37ms/step - loss: 0.1996 - accuracy: 0.9258 - val_loss: 0.4688 - val_accuracy: 0.8113\n",
            "Epoch 6/20\n",
            "30/30 [==============================] - 1s 37ms/step - loss: 0.1502 - accuracy: 0.9449 - val_loss: 0.5418 - val_accuracy: 0.8037\n",
            "Epoch 7/20\n",
            "30/30 [==============================] - 1s 37ms/step - loss: 0.1219 - accuracy: 0.9557 - val_loss: 0.6692 - val_accuracy: 0.7778\n",
            "Epoch 8/20\n",
            "30/30 [==============================] - 1s 38ms/step - loss: 0.0901 - accuracy: 0.9697 - val_loss: 0.6272 - val_accuracy: 0.8077\n",
            "Epoch 9/20\n",
            "30/30 [==============================] - 1s 38ms/step - loss: 0.0681 - accuracy: 0.9773 - val_loss: 0.7361 - val_accuracy: 0.8001\n",
            "Epoch 10/20\n",
            "30/30 [==============================] - 1s 37ms/step - loss: 0.0573 - accuracy: 0.9813 - val_loss: 0.7410 - val_accuracy: 0.8013\n",
            "Epoch 11/20\n",
            "30/30 [==============================] - 1s 37ms/step - loss: 0.0331 - accuracy: 0.9898 - val_loss: 0.9930 - val_accuracy: 0.7743\n",
            "Epoch 12/20\n",
            "30/30 [==============================] - 1s 38ms/step - loss: 0.0122 - accuracy: 0.9985 - val_loss: 0.9259 - val_accuracy: 0.8001\n",
            "Epoch 13/20\n",
            "30/30 [==============================] - 1s 38ms/step - loss: 0.0243 - accuracy: 0.9909 - val_loss: 1.0130 - val_accuracy: 0.7977\n",
            "Epoch 14/20\n",
            "30/30 [==============================] - 1s 37ms/step - loss: 0.0030 - accuracy: 0.9997 - val_loss: 1.1084 - val_accuracy: 0.7983\n",
            "Epoch 15/20\n",
            "30/30 [==============================] - 1s 38ms/step - loss: 0.0280 - accuracy: 0.9900 - val_loss: 1.2622 - val_accuracy: 0.7962\n",
            "Epoch 16/20\n",
            "30/30 [==============================] - 1s 38ms/step - loss: 7.9684e-04 - accuracy: 1.0000 - val_loss: 1.2891 - val_accuracy: 0.7934\n",
            "Epoch 17/20\n",
            "30/30 [==============================] - 1s 39ms/step - loss: 3.1772e-04 - accuracy: 1.0000 - val_loss: 1.3676 - val_accuracy: 0.7934\n",
            "Epoch 18/20\n",
            "30/30 [==============================] - 1s 38ms/step - loss: 1.4995e-04 - accuracy: 1.0000 - val_loss: 1.5019 - val_accuracy: 0.7934\n",
            "Epoch 19/20\n",
            "30/30 [==============================] - 1s 38ms/step - loss: 0.0312 - accuracy: 0.9927 - val_loss: 2.0272 - val_accuracy: 0.7774\n",
            "Epoch 20/20\n",
            "30/30 [==============================] - 1s 37ms/step - loss: 5.8131e-04 - accuracy: 1.0000 - val_loss: 1.6861 - val_accuracy: 0.7938\n"
          ]
        }
      ],
      "source": [
        "model2_history = model2.fit(partial_x_train,\n",
        "                            partial_y_train,\n",
        "                            epochs=20,\n",
        "                            batch_size=512,\n",
        "                            validation_data=(x_val, y_val))"
      ]
    },
    {
      "cell_type": "code",
      "execution_count": null,
      "metadata": {
        "colab": {
          "base_uri": "https://localhost:8080/",
          "height": 303
        },
        "id": "MO4dk8euwcP1",
        "outputId": "8c25a01f-ff3a-46b7-f412-60e178fe0e72"
      },
      "outputs": [
        {
          "data": {
            "text/plain": [
              "<matplotlib.legend.Legend at 0x7f494bf4b6a0>"
            ]
          },
          "execution_count": 42,
          "metadata": {
            "tags": []
          },
          "output_type": "execute_result"
        },
        {
          "data": {
            "image/png": "[encoded data removed]",
            "text/plain": [
              "<Figure size 432x288 with 1 Axes>"
            ]
          },
          "metadata": {
            "tags": []
          },
          "output_type": "display_data"
        }
      ],
      "source": [
        "import matplotlib.pyplot as plt\n",
        "import seaborn as sns\n",
        "sns.set()\n",
        "\n",
        "train_acc2  = model2_history.history['accuracy']\n",
        "train_loss2 = model2_history.history['loss']\n",
        "val_acc2  = model2_history.history['val_accuracy']\n",
        "val_loss2 = model2_history.history['val_loss']\n",
        "\n",
        "epochs = range(1, len(train_acc2) + 1)\n",
        "\n",
        "plt.plot(epochs, train_loss2, label = 'Training Loss')\n",
        "plt.plot(epochs, val_loss2, label = 'Validation Loss')\n",
        "plt.xlabel('Epochs')\n",
        "plt.ylabel('Loss')\n",
        "plt.legend()"
      ]
    },
    {
      "cell_type": "code",
      "execution_count": null,
      "metadata": {
        "colab": {
          "base_uri": "https://localhost:8080/",
          "height": 303
        },
        "id": "obclmJ5HwjHa",
        "outputId": "e47adf81-8abc-459b-bbd2-73d81aa30112"
      },
      "outputs": [
        {
          "data": {
            "text/plain": [
              "<matplotlib.legend.Legend at 0x7f494bea7f28>"
            ]
          },
          "execution_count": 43,
          "metadata": {
            "tags": []
          },
          "output_type": "execute_result"
        },
        {
          "data": {
            "image/png": "[encoded data removed]",
            "text/plain": [
              "<Figure size 432x288 with 1 Axes>"
            ]
          },
          "metadata": {
            "tags": []
          },
          "output_type": "display_data"
        }
      ],
      "source": [
        "plt.plot(epochs, train_acc2, label = 'Training Accuracy')\n",
        "plt.plot(epochs, val_acc2, label = 'Validation Accuracy')\n",
        "plt.xlabel('Epochs')\n",
        "plt.ylabel('Accuracy')\n",
        "plt.legend()"
      ]
    },
    {
      "cell_type": "code",
      "execution_count": null,
      "metadata": {
        "colab": {
          "base_uri": "https://localhost:8080/",
          "height": 53
        },
        "id": "4WLGfVZpwoUH",
        "outputId": "59bf61e3-3b93-4bc5-f9d7-c6eb86239475"
      },
      "outputs": [
        {
          "name": "stdout",
          "output_type": "stream",
          "text": [
            "782/782 [==============================] - 2s 3ms/step - loss: 1.8374 - accuracy: 0.7802\n"
          ]
        },
        {
          "data": {
            "text/plain": [
              "[1.8374395370483398, 0.7801600098609924]"
            ]
          },
          "execution_count": 44,
          "metadata": {
            "tags": []
          },
          "output_type": "execute_result"
        }
      ],
      "source": [
        "# Evaluate the model on the test set\n",
        "model2.evaluate(x_test, y_test)"
      ]
    },
    {
      "cell_type": "markdown",
      "metadata": {
        "id": "c2rWQZFFyhNn"
      },
      "source": [
        "We achieved a test accuracy of 78%, which is not as good as the LSTM or BLSTM models."
      ]
    },
    {
      "cell_type": "markdown",
      "metadata": {
        "id": "MikDf67QI8mb"
      },
      "source": [
        "## Combining CNNs and RNNs to process long sequences\n",
        "\n",
        "Because 1D convnets process input patches independently, they are not sensitive to the order of the timesteps or words (beyond the size of the convolution windows), unlike RNNs.\n",
        "\n",
        "One strategy to combine the speed and lightness of convnets with the order-sensitivity of RNNs is to use a 1D convnet as a preprocessing step before an RNN layer. This is especially beneficial when dealing with sequences that are so long that they couldn't realistically be processed\n",
        "with RNNs, e.g. sequences with thousands of steps/words. The convnet will turn the long input sequence into much shorter (downsampled) sequences of higher-level features. This sequence of extracted features then becomes the input to the RNN part of the network.\n",
        "\n",
        "Although our sequences are not very long in the IMDb example (recall that we took the first 100 words of each review), we are going to develop a model to combine CNNs and RNNs for demonstration purposes.\n",
        "\n",
        "Below, I use a Conv1D layer with 128 filters and filter size 7 before a bidirectional LSTM layer with 64 units. I also use dropout and recurrent dropout in an attemp to fight overfitting."
      ]
    },
    {
      "cell_type": "code",
      "execution_count": null,
      "metadata": {
        "id": "o8bd8WngBjjf"
      },
      "outputs": [],
      "source": [
        "model3 = models.Sequential()\n",
        "model3.add(layers.Embedding(10000, 128, input_length=100))\n",
        "\n",
        "model3.add(layers.Conv1D(128, 7, activation='relu'))\n",
        "\n",
        "model3.add(layers.Bidirectional(layers.LSTM(64, dropout=0.3, recurrent_dropout=0.5)))\n",
        "\n",
        "model3.add(layers.Dense(1, activation='sigmoid'))"
      ]
    },
    {
      "cell_type": "code",
      "execution_count": null,
      "metadata": {
        "id": "qqJfPBYPB6Rm"
      },
      "outputs": [],
      "source": [
        "model3.compile(loss='binary_crossentropy', optimizer='rmsprop',  metrics=['accuracy'])"
      ]
    },
    {
      "cell_type": "code",
      "execution_count": null,
      "metadata": {
        "colab": {
          "base_uri": "https://localhost:8080/",
          "height": 744
        },
        "id": "_Jd97_oPB9GY",
        "outputId": "da247d84-c308-4302-ad43-edc1c5b06be5"
      },
      "outputs": [
        {
          "name": "stdout",
          "output_type": "stream",
          "text": [
            "Epoch 1/20\n",
            "30/30 [==============================] - 26s 883ms/step - loss: 0.5965 - accuracy: 0.6789 - val_loss: 0.4278 - val_accuracy: 0.8085\n",
            "Epoch 2/20\n",
            "30/30 [==============================] - 26s 876ms/step - loss: 0.3705 - accuracy: 0.8393 - val_loss: 0.3711 - val_accuracy: 0.8323\n",
            "Epoch 3/20\n",
            "30/30 [==============================] - 27s 887ms/step - loss: 0.2925 - accuracy: 0.8844 - val_loss: 0.4321 - val_accuracy: 0.8136\n",
            "Epoch 4/20\n",
            "30/30 [==============================] - 26s 880ms/step - loss: 0.2390 - accuracy: 0.9045 - val_loss: 0.3734 - val_accuracy: 0.8435\n",
            "Epoch 5/20\n",
            "30/30 [==============================] - 27s 895ms/step - loss: 0.2026 - accuracy: 0.9218 - val_loss: 0.5391 - val_accuracy: 0.8006\n",
            "Epoch 6/20\n",
            "30/30 [==============================] - 26s 880ms/step - loss: 0.1588 - accuracy: 0.9376 - val_loss: 0.3967 - val_accuracy: 0.8316\n",
            "Epoch 7/20\n",
            "30/30 [==============================] - 26s 876ms/step - loss: 0.1360 - accuracy: 0.9496 - val_loss: 0.4697 - val_accuracy: 0.8246\n",
            "Epoch 8/20\n",
            "30/30 [==============================] - 26s 858ms/step - loss: 0.1024 - accuracy: 0.9641 - val_loss: 0.6875 - val_accuracy: 0.8140\n",
            "Epoch 9/20\n",
            "30/30 [==============================] - 26s 871ms/step - loss: 0.0995 - accuracy: 0.9637 - val_loss: 0.5483 - val_accuracy: 0.8347\n",
            "Epoch 10/20\n",
            "30/30 [==============================] - 26s 874ms/step - loss: 0.0624 - accuracy: 0.9785 - val_loss: 0.6861 - val_accuracy: 0.8077\n",
            "Epoch 11/20\n",
            "30/30 [==============================] - 26s 871ms/step - loss: 0.0527 - accuracy: 0.9829 - val_loss: 0.7551 - val_accuracy: 0.8281\n",
            "Epoch 12/20\n",
            "30/30 [==============================] - 26s 875ms/step - loss: 0.0486 - accuracy: 0.9832 - val_loss: 0.8449 - val_accuracy: 0.8134\n",
            "Epoch 13/20\n",
            "30/30 [==============================] - 27s 886ms/step - loss: 0.0418 - accuracy: 0.9864 - val_loss: 0.8544 - val_accuracy: 0.8239\n",
            "Epoch 14/20\n",
            "30/30 [==============================] - 26s 875ms/step - loss: 0.0495 - accuracy: 0.9848 - val_loss: 0.6795 - val_accuracy: 0.8235\n",
            "Epoch 15/20\n",
            "30/30 [==============================] - 26s 863ms/step - loss: 0.0071 - accuracy: 0.9993 - val_loss: 0.9805 - val_accuracy: 0.8234\n",
            "Epoch 16/20\n",
            "30/30 [==============================] - 27s 886ms/step - loss: 0.0349 - accuracy: 0.9886 - val_loss: 0.8491 - val_accuracy: 0.8193\n",
            "Epoch 17/20\n",
            "30/30 [==============================] - 26s 873ms/step - loss: 0.0223 - accuracy: 0.9921 - val_loss: 0.6537 - val_accuracy: 0.7995\n",
            "Epoch 18/20\n",
            "30/30 [==============================] - 27s 890ms/step - loss: 0.0075 - accuracy: 0.9993 - val_loss: 1.0886 - val_accuracy: 0.8176\n",
            "Epoch 19/20\n",
            "30/30 [==============================] - 26s 872ms/step - loss: 0.0352 - accuracy: 0.9899 - val_loss: 0.8665 - val_accuracy: 0.8184\n",
            "Epoch 20/20\n",
            "30/30 [==============================] - 26s 880ms/step - loss: 0.0018 - accuracy: 0.9998 - val_loss: 1.1152 - val_accuracy: 0.8205\n"
          ]
        }
      ],
      "source": [
        "model3_history = model3.fit(partial_x_train,\n",
        "                            partial_y_train,\n",
        "                            epochs=20,\n",
        "                            batch_size=512,\n",
        "                            validation_data=(x_val, y_val))"
      ]
    },
    {
      "cell_type": "code",
      "execution_count": null,
      "metadata": {
        "colab": {
          "base_uri": "https://localhost:8080/",
          "height": 303
        },
        "id": "jJVdDPGWF5wV",
        "outputId": "838b9c08-884c-493e-c886-5361f14b9bd1"
      },
      "outputs": [
        {
          "data": {
            "text/plain": [
              "<matplotlib.legend.Legend at 0x7f4949151e80>"
            ]
          },
          "execution_count": 72,
          "metadata": {
            "tags": []
          },
          "output_type": "execute_result"
        },
        {
          "data": {
            "image/png": "[encoded data removed]",
            "text/plain": [
              "<Figure size 432x288 with 1 Axes>"
            ]
          },
          "metadata": {
            "tags": []
          },
          "output_type": "display_data"
        }
      ],
      "source": [
        "import matplotlib.pyplot as plt\n",
        "import seaborn as sns\n",
        "sns.set()\n",
        "\n",
        "train_acc3  = model3_history.history['accuracy']\n",
        "train_loss3 = model3_history.history['loss']\n",
        "val_acc3  = model3_history.history['val_accuracy']\n",
        "val_loss3 = model3_history.history['val_loss']\n",
        "\n",
        "epochs = range(1, len(train_acc3) + 1)\n",
        "\n",
        "plt.plot(epochs, train_loss3, label = 'Training Loss')\n",
        "plt.plot(epochs, val_loss3, label = 'Validation Loss')\n",
        "plt.xlabel('Epochs')\n",
        "plt.ylabel('Loss')\n",
        "plt.legend()"
      ]
    },
    {
      "cell_type": "code",
      "execution_count": null,
      "metadata": {
        "colab": {
          "base_uri": "https://localhost:8080/",
          "height": 303
        },
        "id": "3hbVeL3KF8cM",
        "outputId": "44a0bd13-68e5-4c64-9249-544e6bfdd247"
      },
      "outputs": [
        {
          "data": {
            "text/plain": [
              "<matplotlib.legend.Legend at 0x7f4948785470>"
            ]
          },
          "execution_count": 73,
          "metadata": {
            "tags": []
          },
          "output_type": "execute_result"
        },
        {
          "data": {
            "image/png": "[encoded data removed]",
            "text/plain": [
              "<Figure size 432x288 with 1 Axes>"
            ]
          },
          "metadata": {
            "tags": []
          },
          "output_type": "display_data"
        }
      ],
      "source": [
        "plt.plot(epochs, train_acc3, label = 'Training Accuracy')\n",
        "plt.plot(epochs, val_acc3, label = 'Validation Accuracy')\n",
        "plt.xlabel('Epochs')\n",
        "plt.ylabel('Accuracy')\n",
        "plt.legend()"
      ]
    },
    {
      "cell_type": "code",
      "execution_count": null,
      "metadata": {
        "colab": {
          "base_uri": "https://localhost:8080/",
          "height": 53
        },
        "id": "hqe013hmCEjY",
        "outputId": "aa41f62f-ba0a-46d4-b55a-88bf09da8929"
      },
      "outputs": [
        {
          "name": "stdout",
          "output_type": "stream",
          "text": [
            "782/782 [==============================] - 49s 62ms/step - loss: 1.0786 - accuracy: 0.8055\n"
          ]
        },
        {
          "data": {
            "text/plain": [
              "[1.0786283016204834, 0.8055199980735779]"
            ]
          },
          "execution_count": 62,
          "metadata": {
            "tags": []
          },
          "output_type": "execute_result"
        }
      ],
      "source": [
        "# Evaluate the model on the test set\n",
        "model3.evaluate(x_test, y_test)"
      ]
    },
    {
      "cell_type": "markdown",
      "metadata": {
        "id": "pa36B0Of0Z1s"
      },
      "source": [
        "## Using Pretrained Word Embeddings (Language Models)"
      ]
    },
    {
      "cell_type": "markdown",
      "metadata": {
        "id": "Yp3MKGid2u7s"
      },
      "source": [
        "The code below downloads a pretrained language model called the Global Vectors (GloVe)."
      ]
    },
    {
      "cell_type": "code",
      "execution_count": null,
      "metadata": {
        "colab": {
          "base_uri": "https://localhost:8080/"
        },
        "id": "tLk2SkHE0aVr",
        "outputId": "28f16afa-65db-4c5e-ddbd-d8aadf9a6c62"
      },
      "outputs": [
        {
          "name": "stdout",
          "output_type": "stream",
          "text": [
            "--2022-10-06 00:22:23--  http://nlp.stanford.edu/data/glove.6B.zip\n",
            "Resolving nlp.stanford.edu (nlp.stanford.edu)... 171.64.67.140\n",
            "Connecting to nlp.stanford.edu (nlp.stanford.edu)|171.64.67.140|:80... connected.\n",
            "HTTP request sent, awaiting response... 302 Found\n",
            "Location: https://nlp.stanford.edu/data/glove.6B.zip [following]\n",
            "--2022-10-06 00:22:23--  https://nlp.stanford.edu/data/glove.6B.zip\n",
            "Connecting to nlp.stanford.edu (nlp.stanford.edu)|171.64.67.140|:443... connected.\n",
            "HTTP request sent, awaiting response... 301 Moved Permanently\n",
            "Location: https://downloads.cs.stanford.edu/nlp/data/glove.6B.zip [following]\n",
            "--2022-10-06 00:22:24--  https://downloads.cs.stanford.edu/nlp/data/glove.6B.zip\n",
            "Resolving downloads.cs.stanford.edu (downloads.cs.stanford.edu)... 171.64.64.22\n",
            "Connecting to downloads.cs.stanford.edu (downloads.cs.stanford.edu)|171.64.64.22|:443... connected.\n",
            "HTTP request sent, awaiting response... 200 OK\n",
            "Length: 862182613 (822M) [application/zip]\n",
            "Saving to: ‘glove.6B.zip’\n",
            "\n",
            "glove.6B.zip        100%[===================>] 822.24M  4.98MB/s    in 2m 40s  \n",
            "\n",
            "2022-10-06 00:25:05 (5.15 MB/s) - ‘glove.6B.zip’ saved [862182613/862182613]\n",
            "\n"
          ]
        }
      ],
      "source": [
        "!wget http://nlp.stanford.edu/data/glove.6B.zip\n",
        "!unzip -q glove.6B.zip"
      ]
    },
    {
      "cell_type": "markdown",
      "metadata": {
        "id": "JjYMhFeu0gUm"
      },
      "source": [
        "The code block below is parsing the GloVe word-embeddings file. The output is the dictionary `embeddings_index` which stores the GloVe embeddings for each word. There are 400,000 word embedding vectors!"
      ]
    },
    {
      "cell_type": "code",
      "execution_count": null,
      "metadata": {
        "colab": {
          "base_uri": "https://localhost:8080/"
        },
        "id": "vsE5dFjl0co8",
        "outputId": "975a864a-9412-49a9-b1d6-08363087a875"
      },
      "outputs": [
        {
          "name": "stdout",
          "output_type": "stream",
          "text": [
            "Found 400000 word vectors.\n"
          ]
        }
      ],
      "source": [
        "import numpy as np\n",
        "path_to_glove_file = \"glove.6B.100d.txt\"\n",
        "\n",
        "embeddings_index = {}\n",
        "with open(path_to_glove_file) as f:\n",
        "    for line in f:\n",
        "        word, coefs = line.split(maxsplit=1)\n",
        "        coefs = np.fromstring(coefs, \"f\", sep=\" \")\n",
        "        embeddings_index[word] = coefs\n",
        "\n",
        "print(f\"Found {len(embeddings_index)} word vectors.\")"
      ]
    },
    {
      "cell_type": "markdown",
      "metadata": {
        "id": "TJ0lTj6CShOE"
      },
      "source": [
        "Let's look at the embedding vector for the word 'hello'."
      ]
    },
    {
      "cell_type": "code",
      "execution_count": null,
      "metadata": {
        "colab": {
          "base_uri": "https://localhost:8080/"
        },
        "id": "q8FjjAiDJnFp",
        "outputId": "8405ac8c-7beb-4610-8676-22bf5a27c23d"
      },
      "outputs": [
        {
          "data": {
            "text/plain": [
              "array([ 0.26688  ,  0.39632  ,  0.6169   , -0.77451  , -0.1039   ,\n",
              "        0.26697  ,  0.2788   ,  0.30992  ,  0.0054685, -0.085256 ,\n",
              "        0.73602  , -0.098432 ,  0.5479   , -0.030305 ,  0.33479  ,\n",
              "        0.14094  , -0.0070003,  0.32569  ,  0.22902  ,  0.46557  ,\n",
              "       -0.19531  ,  0.37491  , -0.7139   , -0.51775  ,  0.77039  ,\n",
              "        1.0881   , -0.66011  , -0.16234  ,  0.9119   ,  0.21046  ,\n",
              "        0.047494 ,  1.0019   ,  1.1133   ,  0.70094  , -0.08696  ,\n",
              "        0.47571  ,  0.1636   , -0.44469  ,  0.4469   , -0.93817  ,\n",
              "        0.013101 ,  0.085964 , -0.67456  ,  0.49662  , -0.037827 ,\n",
              "       -0.11038  , -0.28612  ,  0.074606 , -0.31527  , -0.093774 ,\n",
              "       -0.57069  ,  0.66865  ,  0.45307  , -0.34154  , -0.7166   ,\n",
              "       -0.75273  ,  0.075212 ,  0.57903  , -0.1191   , -0.11379  ,\n",
              "       -0.10026  ,  0.71341  , -1.1574   , -0.74026  ,  0.40452  ,\n",
              "        0.18023  ,  0.21449  ,  0.37638  ,  0.11239  , -0.53639  ,\n",
              "       -0.025092 ,  0.31886  , -0.25013  , -0.63283  , -0.011843 ,\n",
              "        1.377    ,  0.86013  ,  0.20476  , -0.36815  , -0.68874  ,\n",
              "        0.53512  , -0.46556  ,  0.27389  ,  0.4118   , -0.854    ,\n",
              "       -0.046288 ,  0.11304  , -0.27326  ,  0.15636  , -0.20334  ,\n",
              "        0.53586  ,  0.59784  ,  0.60469  ,  0.13735  ,  0.42232  ,\n",
              "       -0.61279  , -0.38486  ,  0.35842  , -0.48464  ,  0.30728  ],\n",
              "      dtype=float32)"
            ]
          },
          "execution_count": 3,
          "metadata": {},
          "output_type": "execute_result"
        }
      ],
      "source": [
        "embeddings_index.get('hello')"
      ]
    },
    {
      "cell_type": "markdown",
      "metadata": {
        "id": "GE9RYeOK0jVm"
      },
      "source": [
        "Below, we prepare the GloVe word-embeddings matrix. For each unique word in the IMDb dataset, we read the corresponding embedding vector from the GloVe dictionary and store it in a large matrix called `embedding_matrix`."
      ]
    },
    {
      "cell_type": "code",
      "execution_count": null,
      "metadata": {
        "colab": {
          "base_uri": "https://localhost:8080/"
        },
        "id": "s1eSijBP0jp5",
        "outputId": "74d2d7c6-a75c-48c4-ba16-52bbec5a5741"
      },
      "outputs": [
        {
          "name": "stdout",
          "output_type": "stream",
          "text": [
            "Downloading data from https://storage.googleapis.com/tensorflow/tf-keras-datasets/imdb_word_index.json\n",
            "1646592/1641221 [==============================] - 0s 0us/step\n",
            "1654784/1641221 [==============================] - 0s 0us/step\n"
          ]
        }
      ],
      "source": [
        "#from tensorflow.keras.layers import TextVectorization\n",
        "#text_vectorization = TextVectorization(output_mode=\"int\")\n",
        "\n",
        "embedding_dim = 100 #we loaded glove.6B.100d above\n",
        "max_tokens = 88584 #this is the number of unique words in the imdb dataset\n",
        "\n",
        "vocabulary = imdb.get_word_index()\n",
        "word_index = dict(zip(vocabulary, range(len(vocabulary))))\n",
        "\n",
        "#Prepare a matrix that we’ll fill with the GloVe vectors\n",
        "embedding_matrix = np.zeros((max_tokens, embedding_dim))\n",
        "\n",
        "#Fill entry i in the matrix with the word vector for index i\n",
        "#Words not found in the embedding index will be all zeros\n",
        "for word, i in word_index.items():\n",
        "    if i < max_tokens:\n",
        "        embedding_vector = embeddings_index.get(word)\n",
        "    if embedding_vector is not None:\n",
        "        embedding_matrix[i] = embedding_vector"
      ]
    },
    {
      "cell_type": "code",
      "execution_count": null,
      "metadata": {
        "colab": {
          "base_uri": "https://localhost:8080/"
        },
        "id": "peDC4vuiJH3e",
        "outputId": "90326fda-7a1b-49ba-c4dd-d1656e07842d"
      },
      "outputs": [
        {
          "data": {
            "text/plain": [
              "78549"
            ]
          },
          "execution_count": 9,
          "metadata": {},
          "output_type": "execute_result"
        }
      ],
      "source": [
        "word_index.get('hello')\n"
      ]
    },
    {
      "cell_type": "markdown",
      "metadata": {
        "id": "sYizXrrpS4xz"
      },
      "source": [
        "For example, let's look at the word embedding for index 78549, which correcponds to the word 'hello'."
      ]
    },
    {
      "cell_type": "code",
      "execution_count": null,
      "metadata": {
        "colab": {
          "base_uri": "https://localhost:8080/"
        },
        "id": "cMOfqCSrEUH1",
        "outputId": "570d5cd4-57da-476a-8b88-2711ef11dbba"
      },
      "outputs": [
        {
          "data": {
            "text/plain": [
              "array([ 0.26688001,  0.39631999,  0.61690003, -0.77451003, -0.1039    ,\n",
              "        0.26697001,  0.27880001,  0.30992001,  0.0054685 , -0.085256  ,\n",
              "        0.73602003, -0.098432  ,  0.54790002, -0.030305  ,  0.33478999,\n",
              "        0.14094   , -0.0070003 ,  0.32569   ,  0.22902   ,  0.46557   ,\n",
              "       -0.19531   ,  0.37491   , -0.71390003, -0.51775002,  0.77038997,\n",
              "        1.08809996, -0.66011   , -0.16234   ,  0.91189998,  0.21046001,\n",
              "        0.047494  ,  1.00189996,  1.11329997,  0.70094001, -0.08696   ,\n",
              "        0.47571   ,  0.1636    , -0.44468999,  0.44690001, -0.93817002,\n",
              "        0.013101  ,  0.085964  , -0.67456001,  0.49662   , -0.037827  ,\n",
              "       -0.11038   , -0.28612   ,  0.074606  , -0.31527001, -0.093774  ,\n",
              "       -0.57068998,  0.66864997,  0.45307001, -0.34154001, -0.7166    ,\n",
              "       -0.75273001,  0.075212  ,  0.57902998, -0.1191    , -0.11379   ,\n",
              "       -0.10026   ,  0.71341002, -1.15740001, -0.74026   ,  0.40452   ,\n",
              "        0.18023001,  0.21449   ,  0.37638   ,  0.11239   , -0.53639001,\n",
              "       -0.025092  ,  0.31885999, -0.25013   , -0.63283002, -0.011843  ,\n",
              "        1.37699997,  0.86013001,  0.20476   , -0.36815   , -0.68874002,\n",
              "        0.53512001, -0.46555999,  0.27388999,  0.4118    , -0.85399997,\n",
              "       -0.046288  ,  0.11304   , -0.27326   ,  0.15636   , -0.20333999,\n",
              "        0.53586   ,  0.59784001,  0.60469002,  0.13734999,  0.42232001,\n",
              "       -0.61278999, -0.38486001,  0.35842001, -0.48464   ,  0.30728   ])"
            ]
          },
          "execution_count": 10,
          "metadata": {},
          "output_type": "execute_result"
        }
      ],
      "source": [
        "embedding_matrix[78549]"
      ]
    },
    {
      "cell_type": "markdown",
      "metadata": {
        "id": "oN6OyalpVwnS"
      },
      "source": [
        "Below, we use a Constant initializer to load the pretrained embeddings in an Embedding layer. So as not to disrupt the pretrained representations during training, we freeze the layer via `trainable=False`."
      ]
    },
    {
      "cell_type": "code",
      "execution_count": null,
      "metadata": {
        "colab": {
          "base_uri": "https://localhost:8080/"
        },
        "id": "dSVYV9o6024C",
        "outputId": "f0350117-a22f-476b-dffe-e90fdd55f4f5"
      },
      "outputs": [
        {
          "name": "stderr",
          "output_type": "stream",
          "text": [
            "WARNING:tensorflow:Layer lstm_1 will not use cuDNN kernels since it doesn't meet the criteria. It will use a generic GPU kernel as fallback when running on GPU.\n",
            "WARNING:tensorflow:Layer lstm_1 will not use cuDNN kernels since it doesn't meet the criteria. It will use a generic GPU kernel as fallback when running on GPU.\n",
            "WARNING:tensorflow:Layer lstm_1 will not use cuDNN kernels since it doesn't meet the criteria. It will use a generic GPU kernel as fallback when running on GPU.\n"
          ]
        }
      ],
      "source": [
        "from tensorflow.keras import initializers\n",
        "\n",
        "model4 = models.Sequential()\n",
        "\n",
        "model4.add(layers.Embedding(max_tokens, embedding_dim, input_length=100, mask_zero=True,\n",
        "                            embeddings_initializer=initializers.Constant(embedding_matrix),\n",
        "                            trainable=False))\n",
        "\n",
        "model4.add(layers.Bidirectional(layers.LSTM(32, dropout=0.3, recurrent_dropout=0.3)))\n",
        "\n",
        "model4.add(layers.Dense(1, activation='sigmoid'))"
      ]
    },
    {
      "cell_type": "code",
      "execution_count": null,
      "metadata": {
        "colab": {
          "base_uri": "https://localhost:8080/"
        },
        "id": "c0wPSrpfBqVz",
        "outputId": "d72b63ea-2efa-464b-f35e-fc7246d5d8a5"
      },
      "outputs": [
        {
          "name": "stdout",
          "output_type": "stream",
          "text": [
            "Model: \"sequential_1\"\n",
            "_________________________________________________________________\n",
            " Layer (type)                Output Shape              Param #   \n",
            "=================================================================\n",
            " embedding_1 (Embedding)     (None, 100, 100)          8858400   \n",
            "                                                                 \n",
            " bidirectional_1 (Bidirectio  (None, 64)               34048     \n",
            " nal)                                                            \n",
            "                                                                 \n",
            " dense_1 (Dense)             (None, 1)                 65        \n",
            "                                                                 \n",
            "=================================================================\n",
            "Total params: 8,892,513\n",
            "Trainable params: 34,113\n",
            "Non-trainable params: 8,858,400\n",
            "_________________________________________________________________\n"
          ]
        }
      ],
      "source": [
        "model4.summary()"
      ]
    },
    {
      "cell_type": "markdown",
      "metadata": {
        "id": "ft01rbJABx9F"
      },
      "source": [
        "Note above that because we froze the embedding layer, all of its parameters are non-trainable."
      ]
    },
    {
      "cell_type": "code",
      "execution_count": null,
      "metadata": {
        "id": "z6-3qBs5COCa"
      },
      "outputs": [],
      "source": [
        "model4.compile(loss='binary_crossentropy', optimizer='adam',  metrics=['accuracy'])"
      ]
    },
    {
      "cell_type": "code",
      "execution_count": null,
      "metadata": {
        "colab": {
          "base_uri": "https://localhost:8080/"
        },
        "id": "8gKLSYj1CVvN",
        "outputId": "420bd246-2cfc-4163-f41d-c24dd68fd0e8"
      },
      "outputs": [
        {
          "name": "stdout",
          "output_type": "stream",
          "text": [
            "Epoch 1/50\n",
            "59/59 [==============================] - 58s 898ms/step - loss: 0.6921 - accuracy: 0.5213 - val_loss: 0.6808 - val_accuracy: 0.5697\n",
            "Epoch 2/50\n",
            "59/59 [==============================] - 51s 870ms/step - loss: 0.6681 - accuracy: 0.5904 - val_loss: 0.6263 - val_accuracy: 0.6456\n",
            "Epoch 3/50\n",
            "59/59 [==============================] - 51s 869ms/step - loss: 0.6297 - accuracy: 0.6488 - val_loss: 0.6119 - val_accuracy: 0.6705\n",
            "Epoch 4/50\n",
            "59/59 [==============================] - 52s 878ms/step - loss: 0.6020 - accuracy: 0.6779 - val_loss: 0.5756 - val_accuracy: 0.7012\n",
            "Epoch 5/50\n",
            "59/59 [==============================] - 51s 863ms/step - loss: 0.5884 - accuracy: 0.6876 - val_loss: 0.5756 - val_accuracy: 0.7062\n",
            "Epoch 6/50\n",
            "59/59 [==============================] - 51s 871ms/step - loss: 0.5686 - accuracy: 0.7058 - val_loss: 0.5653 - val_accuracy: 0.7091\n",
            "Epoch 7/50\n",
            "59/59 [==============================] - 52s 883ms/step - loss: 0.5487 - accuracy: 0.7223 - val_loss: 0.5908 - val_accuracy: 0.7121\n",
            "Epoch 8/50\n",
            "59/59 [==============================] - 51s 859ms/step - loss: 0.5360 - accuracy: 0.7351 - val_loss: 0.5631 - val_accuracy: 0.7279\n",
            "Epoch 9/50\n",
            "59/59 [==============================] - 51s 863ms/step - loss: 0.5191 - accuracy: 0.7436 - val_loss: 0.5680 - val_accuracy: 0.7395\n",
            "Epoch 10/50\n",
            "59/59 [==============================] - 51s 868ms/step - loss: 0.5101 - accuracy: 0.7533 - val_loss: 0.5226 - val_accuracy: 0.7487\n",
            "Epoch 11/50\n",
            "59/59 [==============================] - 52s 865ms/step - loss: 0.4981 - accuracy: 0.7591 - val_loss: 0.5961 - val_accuracy: 0.7308\n",
            "Epoch 12/50\n",
            "59/59 [==============================] - 51s 863ms/step - loss: 0.4882 - accuracy: 0.7631 - val_loss: 0.5094 - val_accuracy: 0.7600\n",
            "Epoch 13/50\n",
            "59/59 [==============================] - 51s 863ms/step - loss: 0.4799 - accuracy: 0.7711 - val_loss: 0.6108 - val_accuracy: 0.7361\n",
            "Epoch 14/50\n",
            "59/59 [==============================] - 52s 877ms/step - loss: 0.4798 - accuracy: 0.7720 - val_loss: 0.5330 - val_accuracy: 0.7450\n",
            "Epoch 15/50\n",
            "59/59 [==============================] - 51s 862ms/step - loss: 0.4665 - accuracy: 0.7807 - val_loss: 0.5930 - val_accuracy: 0.7441\n",
            "Epoch 16/50\n",
            "59/59 [==============================] - 50s 853ms/step - loss: 0.4600 - accuracy: 0.7813 - val_loss: 0.5344 - val_accuracy: 0.7631\n",
            "Epoch 17/50\n",
            "59/59 [==============================] - 51s 872ms/step - loss: 0.4487 - accuracy: 0.7912 - val_loss: 0.5640 - val_accuracy: 0.7623\n",
            "Epoch 18/50\n",
            "59/59 [==============================] - 51s 857ms/step - loss: 0.4441 - accuracy: 0.7899 - val_loss: 0.5471 - val_accuracy: 0.7602\n",
            "Epoch 19/50\n",
            "59/59 [==============================] - 51s 860ms/step - loss: 0.4456 - accuracy: 0.7894 - val_loss: 0.5389 - val_accuracy: 0.7616\n",
            "Epoch 20/50\n",
            "59/59 [==============================] - 52s 880ms/step - loss: 0.4336 - accuracy: 0.7996 - val_loss: 0.5454 - val_accuracy: 0.7714\n",
            "Epoch 21/50\n",
            "59/59 [==============================] - 50s 851ms/step - loss: 0.4275 - accuracy: 0.8005 - val_loss: 0.6271 - val_accuracy: 0.7575\n",
            "Epoch 22/50\n",
            "59/59 [==============================] - 51s 862ms/step - loss: 0.4229 - accuracy: 0.8062 - val_loss: 0.5082 - val_accuracy: 0.7713\n",
            "Epoch 23/50\n",
            "59/59 [==============================] - 51s 864ms/step - loss: 0.4251 - accuracy: 0.8026 - val_loss: 0.5370 - val_accuracy: 0.7731\n",
            "Epoch 24/50\n",
            "59/59 [==============================] - 51s 873ms/step - loss: 0.4149 - accuracy: 0.8105 - val_loss: 0.5003 - val_accuracy: 0.7829\n",
            "Epoch 25/50\n",
            "59/59 [==============================] - 51s 859ms/step - loss: 0.4160 - accuracy: 0.8084 - val_loss: 0.5184 - val_accuracy: 0.7755\n",
            "Epoch 26/50\n",
            "59/59 [==============================] - 51s 865ms/step - loss: 0.4072 - accuracy: 0.8150 - val_loss: 0.5191 - val_accuracy: 0.7724\n",
            "Epoch 27/50\n",
            "59/59 [==============================] - 52s 880ms/step - loss: 0.4050 - accuracy: 0.8159 - val_loss: 0.5364 - val_accuracy: 0.7770\n",
            "Epoch 28/50\n",
            "59/59 [==============================] - 51s 857ms/step - loss: 0.3980 - accuracy: 0.8190 - val_loss: 0.5171 - val_accuracy: 0.7836\n",
            "Epoch 29/50\n",
            "59/59 [==============================] - 51s 858ms/step - loss: 0.3931 - accuracy: 0.8222 - val_loss: 0.5374 - val_accuracy: 0.7794\n",
            "Epoch 30/50\n",
            "59/59 [==============================] - 52s 878ms/step - loss: 0.3977 - accuracy: 0.8192 - val_loss: 0.5340 - val_accuracy: 0.7776\n",
            "Epoch 31/50\n",
            "59/59 [==============================] - 54s 919ms/step - loss: 0.3888 - accuracy: 0.8236 - val_loss: 0.5356 - val_accuracy: 0.7851\n",
            "Epoch 32/50\n",
            "59/59 [==============================] - 51s 862ms/step - loss: 0.3920 - accuracy: 0.8232 - val_loss: 0.5909 - val_accuracy: 0.7770\n",
            "Epoch 33/50\n",
            "59/59 [==============================] - 52s 877ms/step - loss: 0.3870 - accuracy: 0.8276 - val_loss: 0.5060 - val_accuracy: 0.7874\n",
            "Epoch 34/50\n",
            "59/59 [==============================] - 50s 856ms/step - loss: 0.3916 - accuracy: 0.8221 - val_loss: 0.5535 - val_accuracy: 0.7748\n",
            "Epoch 35/50\n",
            "59/59 [==============================] - 51s 858ms/step - loss: 0.3806 - accuracy: 0.8314 - val_loss: 0.5153 - val_accuracy: 0.7884\n",
            "Epoch 36/50\n",
            "59/59 [==============================] - 51s 870ms/step - loss: 0.3713 - accuracy: 0.8359 - val_loss: 0.5312 - val_accuracy: 0.7841\n",
            "Epoch 37/50\n",
            "59/59 [==============================] - 52s 876ms/step - loss: 0.3700 - accuracy: 0.8313 - val_loss: 0.5351 - val_accuracy: 0.7877\n",
            "Epoch 38/50\n",
            "59/59 [==============================] - 51s 861ms/step - loss: 0.3736 - accuracy: 0.8341 - val_loss: 0.5192 - val_accuracy: 0.7869\n",
            "Epoch 39/50\n",
            "59/59 [==============================] - 50s 855ms/step - loss: 0.3616 - accuracy: 0.8374 - val_loss: 0.5347 - val_accuracy: 0.7892\n",
            "Epoch 40/50\n",
            "59/59 [==============================] - 51s 871ms/step - loss: 0.3633 - accuracy: 0.8352 - val_loss: 0.5418 - val_accuracy: 0.7918\n",
            "Epoch 41/50\n",
            "59/59 [==============================] - 51s 858ms/step - loss: 0.3655 - accuracy: 0.8377 - val_loss: 0.5388 - val_accuracy: 0.7887\n",
            "Epoch 42/50\n",
            "59/59 [==============================] - 51s 862ms/step - loss: 0.3602 - accuracy: 0.8385 - val_loss: 0.5326 - val_accuracy: 0.7895\n",
            "Epoch 43/50\n",
            "59/59 [==============================] - 52s 875ms/step - loss: 0.3522 - accuracy: 0.8461 - val_loss: 0.5242 - val_accuracy: 0.7924\n",
            "Epoch 44/50\n",
            "59/59 [==============================] - 51s 864ms/step - loss: 0.3559 - accuracy: 0.8427 - val_loss: 0.5529 - val_accuracy: 0.7837\n",
            "Epoch 45/50\n",
            "59/59 [==============================] - 51s 858ms/step - loss: 0.3492 - accuracy: 0.8431 - val_loss: 0.5752 - val_accuracy: 0.7865\n",
            "Epoch 46/50\n",
            "59/59 [==============================] - 51s 859ms/step - loss: 0.3434 - accuracy: 0.8485 - val_loss: 0.5198 - val_accuracy: 0.7913\n",
            "Epoch 47/50\n",
            "59/59 [==============================] - 51s 870ms/step - loss: 0.3439 - accuracy: 0.8465 - val_loss: 0.5233 - val_accuracy: 0.7901\n",
            "Epoch 48/50\n",
            "59/59 [==============================] - 50s 852ms/step - loss: 0.3449 - accuracy: 0.8461 - val_loss: 0.5535 - val_accuracy: 0.7914\n",
            "Epoch 49/50\n",
            "59/59 [==============================] - 50s 855ms/step - loss: 0.3429 - accuracy: 0.8457 - val_loss: 0.5198 - val_accuracy: 0.7933\n",
            "Epoch 50/50\n",
            "59/59 [==============================] - 52s 881ms/step - loss: 0.3393 - accuracy: 0.8505 - val_loss: 0.5791 - val_accuracy: 0.7922\n"
          ]
        }
      ],
      "source": [
        "model4_history = model4.fit(partial_x_train,\n",
        "                            partial_y_train,\n",
        "                            epochs=50,\n",
        "                            batch_size=256,\n",
        "                            validation_data=(x_val, y_val))"
      ]
    },
    {
      "cell_type": "code",
      "execution_count": null,
      "metadata": {
        "colab": {
          "base_uri": "https://localhost:8080/",
          "height": 302
        },
        "id": "zcdVwT4AYy2a",
        "outputId": "3c9c4461-8ded-4ed7-9372-ff5d0deedd1f"
      },
      "outputs": [
        {
          "data": {
            "text/plain": [
              "<matplotlib.legend.Legend at 0x7f43925c8510>"
            ]
          },
          "execution_count": 18,
          "metadata": {},
          "output_type": "execute_result"
        },
        {
          "data": {
            "image/png": "[encoded data removed]",
            "text/plain": [
              "<Figure size 432x288 with 1 Axes>"
            ]
          },
          "metadata": {},
          "output_type": "display_data"
        }
      ],
      "source": [
        "import matplotlib.pyplot as plt\n",
        "import seaborn as sns\n",
        "sns.set()\n",
        "\n",
        "train_acc4  = model4_history.history['accuracy']\n",
        "train_loss4 = model4_history.history['loss']\n",
        "val_acc4  = model4_history.history['val_accuracy']\n",
        "val_loss4 = model4_history.history['val_loss']\n",
        "\n",
        "epochs = range(1, len(train_acc4) + 1)\n",
        "\n",
        "plt.plot(epochs, train_loss4, label = 'Training Loss')\n",
        "plt.plot(epochs, val_loss4, label = 'Validation Loss')\n",
        "plt.xlabel('Epochs')\n",
        "plt.ylabel('Loss')\n",
        "plt.legend()"
      ]
    },
    {
      "cell_type": "code",
      "execution_count": null,
      "metadata": {
        "colab": {
          "base_uri": "https://localhost:8080/"
        },
        "id": "UXigXoawTvVw",
        "outputId": "53806f93-e3f9-4152-9ea4-711a947ed496"
      },
      "outputs": [
        {
          "name": "stdout",
          "output_type": "stream",
          "text": [
            "782/782 [==============================] - 48s 61ms/step - loss: 0.5870 - accuracy: 0.7928\n"
          ]
        },
        {
          "data": {
            "text/plain": [
              "[0.5869691967964172, 0.7928400039672852]"
            ]
          },
          "execution_count": 19,
          "metadata": {},
          "output_type": "execute_result"
        }
      ],
      "source": [
        "# Evaluate the model on the test set\n",
        "model4.evaluate(x_test, y_test)"
      ]
    },
    {
      "cell_type": "markdown",
      "metadata": {
        "id": "Q68bLu_LTvVx"
      },
      "source": [
        "We see that using the GloVe language model, we achieved 79.3% accuracy on the test dataset."
      ]
    },
    {
      "cell_type": "markdown",
      "metadata": {
        "id": "5N0dQQP2MQs8"
      },
      "source": [
        "## Wrapping up\n",
        "\n",
        "Here's what you should take away from this section:\n",
        "\n",
        "* In the same way that 2D convnets perform well for processing visual patterns in 2D space, 1D convnets perform well for processing temporal patterns. They offer a faster alternative to RNNs on some problems, in particular NLP tasks.\n",
        "\n",
        "* Typically 1D convnets are structured much like their 2D equivalents from the world of computer vision: they consist of stacks of `Conv1D` layers and `MaxPooling1D` layers, eventually ending in a global pooling operation or flattening operation.\n",
        "\n",
        "* Because RNNs are extremely expensive for processing very long sequences, but 1D convnets are cheap, it can be a good idea to use a 1D convnet as a preprocessing step before an RNN, shortening the sequence and extracting useful representations for the RNN to process.\n",
        "\n",
        "* Instead of learning word embeddings from our own data, usually it is a better idea to use pre-trained language models, which can quickly return an embedding vector for each word in the dictionary.\n"
      ]
    }
  ],
  "metadata": {
    "accelerator": "GPU",
    "colab": {
      "provenance": []
    },
    "kernelspec": {
      "display_name": "Python 3",
      "language": "python",
      "name": "python3"
    },
    "language_info": {
      "codemirror_mode": {
        "name": "ipython",
        "version": 3
      },
      "file_extension": ".py",
      "mimetype": "text/x-python",
      "name": "python",
      "nbconvert_exporter": "python",
      "pygments_lexer": "ipython3",
      "version": "3.5.2"
    }
  },
  "nbformat": 4,
  "nbformat_minor": 0
}
